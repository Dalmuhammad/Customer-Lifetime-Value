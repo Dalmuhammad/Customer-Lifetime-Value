{
 "cells": [
  {
   "cell_type": "markdown",
   "metadata": {},
   "source": [
    "### **Customer Lifetime Value (CLV)**"
   ]
  },
  {
   "cell_type": "markdown",
   "metadata": {},
   "source": [
    "[Sumber data CLV](https://drive.google.com/drive/folders/1GR7l3uWmcOCA2sxx1W-cEkReDxdedoeJ) \n",
    "\n",
    "### **Contents**\n",
    "\n",
    "1. Business Problem Understanding\n",
    "2. Data Understanding\n",
    "3. Data Preprocessing\n",
    "4. Modeling\n",
    "5. Conclusion\n",
    "6. Recommendation\n",
    "\n",
    "****"
   ]
  },
  {
   "cell_type": "markdown",
   "metadata": {},
   "source": [
    "### **Business Problem Understanding**"
   ]
  },
  {
   "cell_type": "markdown",
   "metadata": {},
   "source": [
    "**Context**\n",
    "\n",
    "Customer Lifetime Value (CLV) adalah ukuran untuk mengetahui seberapa bernilainya seorang pelanggan bagi sebuah perusahaan. Dengan memahami CLV, perusahaan dapat menentukan besaran keuntungan yang diperoleh dari satu pelanggan serta biaya yang diperlukan untuk mendapatkan atau mempertahankan pelanggan baru. CLV memainkan peran penting dalam strategi pemasaran, karena membantu perusahaan menargetkan pelanggan yang memiliki nilai tinggi secara lebih efektif dan memahami perubahan pola pelanggan di masa depan.\n",
    "\n",
    "Dalam konteks ini, CLV dapat dipengaruhi oleh berbagai fitur, seperti kelas kendaraan (Vehicle Class), cakupan asuransi (Coverage), tipe penawaran pembaruan (Renew Offer Type), dan lain-lain. Analisis terhadap data ini memungkinkan perusahaan mengidentifikasi pelanggan yang paling bernilai dan merancang strategi pemasaran yang sesuai untuk mempertahankan mereka."
   ]
  },
  {
   "cell_type": "markdown",
   "metadata": {},
   "source": [
    "**Problem Statement**\n",
    "\n",
    "Salah satu tantangan utama perusahaan adalah mengoptimalkan retensi pelanggan dan meningkatkan profitabilitas dengan pendekatan berbasis data. CLV memberikan wawasan tentang pelanggan yang memiliki dampak signifikan terhadap pendapatan perusahaan, tetapi banyak perusahaan menghadapi kesulitan dalam menghitung nilai ini secara akurat karena faktor yang memengaruhi CLV bersifat dinamis dan kompleks.\n",
    "\n",
    "Selain itu, perusahaan sering kali tidak memiliki alat atau model yang dapat membantu mereka memprediksi CLV untuk pelanggan baru. Tanpa pemahaman yang jelas tentang CLV, strategi pemasaran cenderung kurang efektif, sehingga perusahaan tidak dapat memaksimalkan potensi keuntungan dari setiap pelanggan."
   ]
  },
  {
   "cell_type": "markdown",
   "metadata": {},
   "source": [
    "**Goals**\n",
    "\n",
    "Tujuan utama dari analisis ini adalah membangun model prediktif yang dapat menghitung CLV dengan akurat untuk setiap pelanggan, baik pelanggan yang sudah ada maupun pelanggan baru (nantinya). Dengan memanfaatkan data terkait fitur pelanggan.\n",
    "\n",
    "Perusahaan dapat memberikan perhatian khusus pada pelanggan bernilai tinggi serta merancang strategi pemasaran yang lebih personal dan tepat sasaran. Hal ini tidak hanya meningkatkan retensi pelanggan tetapi juga mendorong pertumbuhan pendapatan perusahaan secara berkelanjutan."
   ]
  },
  {
   "cell_type": "markdown",
   "metadata": {},
   "source": [
    "**Analytic Approach**\n",
    "\n",
    "Langkah pertama adalah menganalisis data pelanggan untuk menemukan pola dan hubungan antara berbagai fitur yang ada dengan CLV. Setelah itu, model prediksi berbasis regresi akan dibangun untuk memprediksi CLV. Model ini dirancang untuk dapat menangkap pengaruh setiap fitur pelanggan terhadap nilai CLV mereka, sehingga memberikan prediksi yang realistis dan dapat diandalkan."
   ]
  },
  {
   "cell_type": "markdown",
   "metadata": {},
   "source": [
    "**Metric Evaluation**\n",
    "\n",
    "Evaluasi metrik yang akan digunakan adalah RMSE, MAE, dan MAPE, di mana RMSE adalah nilai rataan akar kuadrat dari error, MAE adalah rataan nilai absolut dari error, sedangkan MAPE adalah rataan persentase error yang dihasilkan oleh model regresi. Semakin kecil nilai RMSE, MAE, dan MAPE yang dihasilkan, berarti model semakin akurat dalam memprediksi harga sewa sesuai dengan limitasi fitur yang digunakan. \n",
    "\n",
    "Selain itu, kita juga bisa menggunakan nilai R-squared atau adj. R-squared jika model yang nanti terpilih sebagai final model adalah model linear. Nilai R-squared digunakan untuk mengetahui seberapa baik model dapat merepresentasikan varians keseluruhan data. Semakin mendekati 1, maka semakin fit pula modelnya terhadap data observasi. Namun, metrik ini tidak valid untuk model non-linear."
   ]
  },
  {
   "cell_type": "markdown",
   "metadata": {},
   "source": [
    "- Dataset merupakan data CLV.\n",
    "- Setiap baris data merepresentasikan informasi terkait customer.\n",
    "\n",
    "**Attributes Information**\n",
    "\n",
    "| **Attribute** | **Data Type** | **Description** |\n",
    "| --- | --- | --- |\n",
    "| Vehicle Class | Object | Kategori kelas kendaraan |\n",
    "| Coverage | Object | Jenis cakupan asuransi (Basic, Extended, Premium) |\n",
    "| Renew Offer Type | Object | Tipe penawaran pembaruan polis (misalnya: Offer1, Offer2, dll.) |\n",
    "| Employment Status | Object | Status pekerjaan pelanggan (Employed, Unemployed, Retired, dll.) |\n",
    "| Marital Status | Object | Status pernikahan pelanggan (Single, Married, Divorced) |\n",
    "| Education | Object | Tingkat pendidikan pelanggan (High School, Bachelor, Master, dll.) |\n",
    "| Number of Policies | Float | Jumlah polis yang dimiliki pelanggan |\n",
    "| Monthly Premium Auto | Float | Premi bulanan untuk asuransi kendaraan |\n",
    "| Total Claim Amount | Float | Total jumlah klaim yang diajukan oleh pelanggan |\n",
    "| Income | Float | Pendapatan tahunan pelanggan |\n",
    "| Customer Lifetime Value | Float | Nilai seumur hidup pelanggan bagi perusahaan |\n",
    "\n",
    "\n",
    "<br>"
   ]
  },
  {
   "cell_type": "code",
   "execution_count": 1,
   "metadata": {},
   "outputs": [],
   "source": [
    "import numpy as np\n",
    "import pandas as pd\n",
    "import matplotlib.pyplot as plt\n",
    "import seaborn as sns\n",
    "import shap\n",
    "import scipy.stats as stats\n",
    "from scipy.stats import uniform, loguniform\n",
    "from sklearn.model_selection import train_test_split, GridSearchCV, RandomizedSearchCV\n",
    "from sklearn.pipeline import Pipeline\n",
    "from sklearn.preprocessing import OneHotEncoder, OrdinalEncoder, LabelEncoder, RobustScaler, MinMaxScaler, FunctionTransformer, PolynomialFeatures\n",
    "from category_encoders import BinaryEncoder, TargetEncoder\n",
    "from sklearn.compose import ColumnTransformer, TransformedTargetRegressor\n",
    "from sklearn.linear_model import Ridge,Lasso, LinearRegression\n",
    "from sklearn.ensemble import RandomForestRegressor\n",
    "from sklearn.svm import SVR\n",
    "from sklearn.neighbors import KNeighborsRegressor\n",
    "from sklearn.model_selection import KFold, cross_val_score\n",
    "from sklearn.metrics import mean_squared_error, r2_score, mean_absolute_error,mean_absolute_percentage_error,make_scorer\n",
    "from skopt import BayesSearchCV\n",
    "import xgboost as xgb\n",
    "import lightgbm as lgb\n",
    "import optuna\n",
    "import pickle\n",
    "import cloudpickle"
   ]
  },
  {
   "cell_type": "code",
   "execution_count": 2,
   "metadata": {},
   "outputs": [
    {
     "data": {
      "text/html": [
       "<div>\n",
       "<style scoped>\n",
       "    .dataframe tbody tr th:only-of-type {\n",
       "        vertical-align: middle;\n",
       "    }\n",
       "\n",
       "    .dataframe tbody tr th {\n",
       "        vertical-align: top;\n",
       "    }\n",
       "\n",
       "    .dataframe thead th {\n",
       "        text-align: right;\n",
       "    }\n",
       "</style>\n",
       "<table border=\"1\" class=\"dataframe\">\n",
       "  <thead>\n",
       "    <tr style=\"text-align: right;\">\n",
       "      <th></th>\n",
       "      <th>Vehicle Class</th>\n",
       "      <th>Coverage</th>\n",
       "      <th>Renew Offer Type</th>\n",
       "      <th>EmploymentStatus</th>\n",
       "      <th>Marital Status</th>\n",
       "      <th>Education</th>\n",
       "      <th>Number of Policies</th>\n",
       "      <th>Monthly Premium Auto</th>\n",
       "      <th>Total Claim Amount</th>\n",
       "      <th>Income</th>\n",
       "      <th>Customer Lifetime Value</th>\n",
       "    </tr>\n",
       "  </thead>\n",
       "  <tbody>\n",
       "    <tr>\n",
       "      <th>0</th>\n",
       "      <td>Four-Door Car</td>\n",
       "      <td>Extended</td>\n",
       "      <td>Offer1</td>\n",
       "      <td>Retired</td>\n",
       "      <td>Divorced</td>\n",
       "      <td>High School or Below</td>\n",
       "      <td>2.0</td>\n",
       "      <td>90.0</td>\n",
       "      <td>571.479602</td>\n",
       "      <td>11828.0</td>\n",
       "      <td>10083.486880</td>\n",
       "    </tr>\n",
       "    <tr>\n",
       "      <th>1</th>\n",
       "      <td>Four-Door Car</td>\n",
       "      <td>Basic</td>\n",
       "      <td>Offer1</td>\n",
       "      <td>Employed</td>\n",
       "      <td>Married</td>\n",
       "      <td>College</td>\n",
       "      <td>6.0</td>\n",
       "      <td>62.0</td>\n",
       "      <td>114.514440</td>\n",
       "      <td>44762.0</td>\n",
       "      <td>4943.386117</td>\n",
       "    </tr>\n",
       "    <tr>\n",
       "      <th>2</th>\n",
       "      <td>Two-Door Car</td>\n",
       "      <td>Basic</td>\n",
       "      <td>Offer1</td>\n",
       "      <td>Retired</td>\n",
       "      <td>Married</td>\n",
       "      <td>Master</td>\n",
       "      <td>2.0</td>\n",
       "      <td>62.0</td>\n",
       "      <td>257.248789</td>\n",
       "      <td>21514.0</td>\n",
       "      <td>11981.984810</td>\n",
       "    </tr>\n",
       "    <tr>\n",
       "      <th>3</th>\n",
       "      <td>Four-Door Car</td>\n",
       "      <td>Premium</td>\n",
       "      <td>Offer3</td>\n",
       "      <td>Disabled</td>\n",
       "      <td>Married</td>\n",
       "      <td>High School or Below</td>\n",
       "      <td>1.0</td>\n",
       "      <td>116.0</td>\n",
       "      <td>556.800000</td>\n",
       "      <td>17913.0</td>\n",
       "      <td>4550.856045</td>\n",
       "    </tr>\n",
       "    <tr>\n",
       "      <th>4</th>\n",
       "      <td>Two-Door Car</td>\n",
       "      <td>Basic</td>\n",
       "      <td>Offer3</td>\n",
       "      <td>Medical Leave</td>\n",
       "      <td>Married</td>\n",
       "      <td>High School or Below</td>\n",
       "      <td>1.0</td>\n",
       "      <td>62.0</td>\n",
       "      <td>355.820799</td>\n",
       "      <td>19030.0</td>\n",
       "      <td>2372.155492</td>\n",
       "    </tr>\n",
       "  </tbody>\n",
       "</table>\n",
       "</div>"
      ],
      "text/plain": [
       "   Vehicle Class  Coverage Renew Offer Type EmploymentStatus Marital Status  \\\n",
       "0  Four-Door Car  Extended           Offer1          Retired       Divorced   \n",
       "1  Four-Door Car     Basic           Offer1         Employed        Married   \n",
       "2   Two-Door Car     Basic           Offer1          Retired        Married   \n",
       "3  Four-Door Car   Premium           Offer3         Disabled        Married   \n",
       "4   Two-Door Car     Basic           Offer3    Medical Leave        Married   \n",
       "\n",
       "              Education  Number of Policies  Monthly Premium Auto  \\\n",
       "0  High School or Below                 2.0                  90.0   \n",
       "1               College                 6.0                  62.0   \n",
       "2                Master                 2.0                  62.0   \n",
       "3  High School or Below                 1.0                 116.0   \n",
       "4  High School or Below                 1.0                  62.0   \n",
       "\n",
       "   Total Claim Amount   Income  Customer Lifetime Value  \n",
       "0          571.479602  11828.0             10083.486880  \n",
       "1          114.514440  44762.0              4943.386117  \n",
       "2          257.248789  21514.0             11981.984810  \n",
       "3          556.800000  17913.0              4550.856045  \n",
       "4          355.820799  19030.0              2372.155492  "
      ]
     },
     "execution_count": 2,
     "metadata": {},
     "output_type": "execute_result"
    }
   ],
   "source": [
    "df = pd.read_csv(\"data_customer_lifetime_value.csv\")\n",
    "df.head()"
   ]
  },
  {
   "cell_type": "markdown",
   "metadata": {},
   "source": [
    "#### **Exploratory Data Analysis**"
   ]
  },
  {
   "cell_type": "code",
   "execution_count": 3,
   "metadata": {},
   "outputs": [
    {
     "name": "stdout",
     "output_type": "stream",
     "text": [
      "<class 'pandas.core.frame.DataFrame'>\n",
      "RangeIndex: 5669 entries, 0 to 5668\n",
      "Data columns (total 11 columns):\n",
      " #   Column                   Non-Null Count  Dtype  \n",
      "---  ------                   --------------  -----  \n",
      " 0   Vehicle Class            5669 non-null   object \n",
      " 1   Coverage                 5669 non-null   object \n",
      " 2   Renew Offer Type         5669 non-null   object \n",
      " 3   EmploymentStatus         5669 non-null   object \n",
      " 4   Marital Status           5669 non-null   object \n",
      " 5   Education                5669 non-null   object \n",
      " 6   Number of Policies       5669 non-null   float64\n",
      " 7   Monthly Premium Auto     5669 non-null   float64\n",
      " 8   Total Claim Amount       5669 non-null   float64\n",
      " 9   Income                   5669 non-null   float64\n",
      " 10  Customer Lifetime Value  5669 non-null   float64\n",
      "dtypes: float64(5), object(6)\n",
      "memory usage: 487.3+ KB\n"
     ]
    }
   ],
   "source": [
    "df.info()"
   ]
  },
  {
   "cell_type": "code",
   "execution_count": 4,
   "metadata": {},
   "outputs": [
    {
     "data": {
      "text/plain": [
       "Vehicle Class              0\n",
       "Coverage                   0\n",
       "Renew Offer Type           0\n",
       "EmploymentStatus           0\n",
       "Marital Status             0\n",
       "Education                  0\n",
       "Number of Policies         0\n",
       "Monthly Premium Auto       0\n",
       "Total Claim Amount         0\n",
       "Income                     0\n",
       "Customer Lifetime Value    0\n",
       "dtype: int64"
      ]
     },
     "execution_count": 4,
     "metadata": {},
     "output_type": "execute_result"
    }
   ],
   "source": [
    "df.isna().sum()"
   ]
  },
  {
   "cell_type": "code",
   "execution_count": 5,
   "metadata": {},
   "outputs": [
    {
     "data": {
      "text/plain": [
       "618"
      ]
     },
     "execution_count": 5,
     "metadata": {},
     "output_type": "execute_result"
    }
   ],
   "source": [
    "df.duplicated().sum()"
   ]
  },
  {
   "cell_type": "code",
   "execution_count": 6,
   "metadata": {},
   "outputs": [],
   "source": [
    "df.drop_duplicates(inplace=True)"
   ]
  },
  {
   "cell_type": "code",
   "execution_count": 7,
   "metadata": {},
   "outputs": [
    {
     "data": {
      "text/plain": [
       "5051"
      ]
     },
     "execution_count": 7,
     "metadata": {},
     "output_type": "execute_result"
    }
   ],
   "source": [
    "len(df)"
   ]
  },
  {
   "cell_type": "markdown",
   "metadata": {},
   "source": [
    "Selanjutnya, akan dieksplorasi data berdasarkan jenis, yaitu kategorikal/ordinal dan data numerik."
   ]
  },
  {
   "cell_type": "markdown",
   "metadata": {},
   "source": [
    "Pertama, untuk data yang bertipe numerik"
   ]
  },
  {
   "cell_type": "code",
   "execution_count": 8,
   "metadata": {},
   "outputs": [
    {
     "data": {
      "text/html": [
       "<div>\n",
       "<style scoped>\n",
       "    .dataframe tbody tr th:only-of-type {\n",
       "        vertical-align: middle;\n",
       "    }\n",
       "\n",
       "    .dataframe tbody tr th {\n",
       "        vertical-align: top;\n",
       "    }\n",
       "\n",
       "    .dataframe thead th {\n",
       "        text-align: right;\n",
       "    }\n",
       "</style>\n",
       "<table border=\"1\" class=\"dataframe\">\n",
       "  <thead>\n",
       "    <tr style=\"text-align: right;\">\n",
       "      <th></th>\n",
       "      <th>Number of Policies</th>\n",
       "      <th>Monthly Premium Auto</th>\n",
       "      <th>Total Claim Amount</th>\n",
       "      <th>Income</th>\n",
       "      <th>Customer Lifetime Value</th>\n",
       "    </tr>\n",
       "  </thead>\n",
       "  <tbody>\n",
       "    <tr>\n",
       "      <th>count</th>\n",
       "      <td>5051.000000</td>\n",
       "      <td>5051.000000</td>\n",
       "      <td>5051.000000</td>\n",
       "      <td>5051.000000</td>\n",
       "      <td>5051.000000</td>\n",
       "    </tr>\n",
       "    <tr>\n",
       "      <th>mean</th>\n",
       "      <td>2.992081</td>\n",
       "      <td>92.911107</td>\n",
       "      <td>429.798954</td>\n",
       "      <td>37739.838448</td>\n",
       "      <td>8059.483178</td>\n",
       "    </tr>\n",
       "    <tr>\n",
       "      <th>std</th>\n",
       "      <td>2.386500</td>\n",
       "      <td>34.335010</td>\n",
       "      <td>293.129102</td>\n",
       "      <td>30691.452111</td>\n",
       "      <td>6989.189674</td>\n",
       "    </tr>\n",
       "    <tr>\n",
       "      <th>min</th>\n",
       "      <td>1.000000</td>\n",
       "      <td>61.000000</td>\n",
       "      <td>0.423310</td>\n",
       "      <td>0.000000</td>\n",
       "      <td>1898.007675</td>\n",
       "    </tr>\n",
       "    <tr>\n",
       "      <th>25%</th>\n",
       "      <td>1.000000</td>\n",
       "      <td>68.000000</td>\n",
       "      <td>251.776304</td>\n",
       "      <td>0.000000</td>\n",
       "      <td>3964.441004</td>\n",
       "    </tr>\n",
       "    <tr>\n",
       "      <th>50%</th>\n",
       "      <td>2.000000</td>\n",
       "      <td>82.000000</td>\n",
       "      <td>374.400000</td>\n",
       "      <td>34322.000000</td>\n",
       "      <td>5837.528088</td>\n",
       "    </tr>\n",
       "    <tr>\n",
       "      <th>75%</th>\n",
       "      <td>4.000000</td>\n",
       "      <td>109.000000</td>\n",
       "      <td>548.123122</td>\n",
       "      <td>62471.500000</td>\n",
       "      <td>9028.564632</td>\n",
       "    </tr>\n",
       "    <tr>\n",
       "      <th>max</th>\n",
       "      <td>9.000000</td>\n",
       "      <td>297.000000</td>\n",
       "      <td>2759.794354</td>\n",
       "      <td>99934.000000</td>\n",
       "      <td>83325.381190</td>\n",
       "    </tr>\n",
       "  </tbody>\n",
       "</table>\n",
       "</div>"
      ],
      "text/plain": [
       "       Number of Policies  Monthly Premium Auto  Total Claim Amount  \\\n",
       "count         5051.000000           5051.000000         5051.000000   \n",
       "mean             2.992081             92.911107          429.798954   \n",
       "std              2.386500             34.335010          293.129102   \n",
       "min              1.000000             61.000000            0.423310   \n",
       "25%              1.000000             68.000000          251.776304   \n",
       "50%              2.000000             82.000000          374.400000   \n",
       "75%              4.000000            109.000000          548.123122   \n",
       "max              9.000000            297.000000         2759.794354   \n",
       "\n",
       "             Income  Customer Lifetime Value  \n",
       "count   5051.000000              5051.000000  \n",
       "mean   37739.838448              8059.483178  \n",
       "std    30691.452111              6989.189674  \n",
       "min        0.000000              1898.007675  \n",
       "25%        0.000000              3964.441004  \n",
       "50%    34322.000000              5837.528088  \n",
       "75%    62471.500000              9028.564632  \n",
       "max    99934.000000             83325.381190  "
      ]
     },
     "execution_count": 8,
     "metadata": {},
     "output_type": "execute_result"
    }
   ],
   "source": [
    "df.describe()"
   ]
  },
  {
   "cell_type": "markdown",
   "metadata": {},
   "source": [
    "Melihat distribusi untuk setiap kolom"
   ]
  },
  {
   "cell_type": "code",
   "execution_count": 9,
   "metadata": {},
   "outputs": [
    {
     "data": {
      "image/png": "[encoded data removed]",
      "text/plain": [
       "<Figure size 1152x648 with 5 Axes>"
      ]
     },
     "metadata": {
      "needs_background": "light"
     },
     "output_type": "display_data"
    }
   ],
   "source": [
    "numerical_columns = ['Number of Policies', 'Monthly Premium Auto', 'Total Claim Amount', 'Income', 'Customer Lifetime Value']\n",
    "\n",
    "fig, axes = plt.subplots(2,3, figsize=(16,9))\n",
    "\n",
    "axes = axes.ravel()\n",
    "\n",
    "for i, col in enumerate(numerical_columns):\n",
    "    sns.histplot(data=df, x=col, ax=axes[i])\n",
    "    axes[i].set_title(f\"Bar Plot for {col}\")\n",
    "    axes[i].set_xlabel(\"\")\n",
    "    axes[i].set_ylabel(\"Count\")\n",
    "    axes[i].tick_params(axis='x', rotation=45)\n",
    "\n",
    "fig.delaxes(axes[5])\n",
    "plt.tight_layout()\n",
    "plt.show()"
   ]
  },
  {
   "cell_type": "markdown",
   "metadata": {},
   "source": [
    "Untuk kolom 'Number of Policies' bisa dikategorikan sebagai data kategorikal. Kemudian, pada kolom 'Income, terlihat bahwa terdapat banyak data yang memiliki income = 0. Hal ini tentunya butuh analisis lebih lanjut apakah ada kaitan dengan kolom 'EmploymentStatus' atau tidak. Kemudian, untuk ketiga kolom lainnya ('Monthly Premium Auto', 'Total Claim Amount', 'Customer Lifetime Value') memiliki bentuk distribusi yang sangat skew ke kanan sehingga diperlukan treatment tambahan untuk prediksi nantinya."
   ]
  },
  {
   "cell_type": "code",
   "execution_count": 10,
   "metadata": {},
   "outputs": [
    {
     "data": {
      "text/plain": [
       "<Axes: xlabel='Monthly Premium Auto', ylabel='Count'>"
      ]
     },
     "execution_count": 10,
     "metadata": {},
     "output_type": "execute_result"
    },
    {
     "data": {
      "image/png": "[encoded data removed]",
      "text/plain": [
       "<Figure size 432x288 with 1 Axes>"
      ]
     },
     "metadata": {
      "needs_background": "light"
     },
     "output_type": "display_data"
    }
   ],
   "source": [
    "sns.histplot(np.log(df['Monthly Premium Auto']))"
   ]
  },
  {
   "cell_type": "code",
   "execution_count": 11,
   "metadata": {},
   "outputs": [
    {
     "data": {
      "text/plain": [
       "<Axes: xlabel='Monthly Premium Auto', ylabel='Count'>"
      ]
     },
     "execution_count": 11,
     "metadata": {},
     "output_type": "execute_result"
    },
    {
     "data": {
      "image/png": "[encoded data removed]",
      "text/plain": [
       "<Figure size 432x288 with 1 Axes>"
      ]
     },
     "metadata": {
      "needs_background": "light"
     },
     "output_type": "display_data"
    }
   ],
   "source": [
    "sns.histplot(np.sqrt(df['Monthly Premium Auto']))"
   ]
  },
  {
   "cell_type": "markdown",
   "metadata": {},
   "source": [
    "Untuk kolom 'Monthly Premium Auto' setelah dilakukan transformasi log dan sqrt data tetap terlihat skew, sehingga untuk kolom ini kita tetap menggunakan data ini untuk prediksi awal."
   ]
  },
  {
   "cell_type": "code",
   "execution_count": 12,
   "metadata": {},
   "outputs": [
    {
     "data": {
      "text/plain": [
       "<Axes: xlabel='Total Claim Amount', ylabel='Count'>"
      ]
     },
     "execution_count": 12,
     "metadata": {},
     "output_type": "execute_result"
    },
    {
     "data": {
      "image/png": "[encoded data removed]",
      "text/plain": [
       "<Figure size 432x288 with 1 Axes>"
      ]
     },
     "metadata": {
      "needs_background": "light"
     },
     "output_type": "display_data"
    }
   ],
   "source": [
    "sns.histplot(np.log(df['Total Claim Amount']))"
   ]
  },
  {
   "cell_type": "code",
   "execution_count": 13,
   "metadata": {},
   "outputs": [
    {
     "data": {
      "text/plain": [
       "<Axes: xlabel='Total Claim Amount', ylabel='Count'>"
      ]
     },
     "execution_count": 13,
     "metadata": {},
     "output_type": "execute_result"
    },
    {
     "data": {
      "image/png": "[encoded data removed]",
      "text/plain": [
       "<Figure size 432x288 with 1 Axes>"
      ]
     },
     "metadata": {
      "needs_background": "light"
     },
     "output_type": "display_data"
    }
   ],
   "source": [
    "sns.histplot(np.sqrt(df['Total Claim Amount']))"
   ]
  },
  {
   "cell_type": "code",
   "execution_count": 14,
   "metadata": {},
   "outputs": [
    {
     "data": {
      "text/plain": [
       "<Axes: xlabel='Total Claim Amount', ylabel='Count'>"
      ]
     },
     "execution_count": 14,
     "metadata": {},
     "output_type": "execute_result"
    },
    {
     "data": {
      "image/png": "[encoded data removed]",
      "text/plain": [
       "<Figure size 432x288 with 1 Axes>"
      ]
     },
     "metadata": {
      "needs_background": "light"
     },
     "output_type": "display_data"
    }
   ],
   "source": [
    "sns.histplot((df['Total Claim Amount'])**(1/3))"
   ]
  },
  {
   "cell_type": "code",
   "execution_count": 15,
   "metadata": {},
   "outputs": [
    {
     "name": "stdout",
     "output_type": "stream",
     "text": [
      "p-value: 6.794377093241107e-20\n",
      "Data tidak mengikuti distribusi normal (tolak H0)\n"
     ]
    }
   ],
   "source": [
    "stat, p_value = stats.normaltest((df['Total Claim Amount'])**(1/2))\n",
    "print(\"p-value:\", p_value)\n",
    "\n",
    "alpha= 0.05\n",
    "if p_value > alpha:\n",
    "    print(\"Data tampaknya mengikuti distribusi normal (gagal tolak H0)\")\n",
    "else:\n",
    "    print(\"Data tidak mengikuti distribusi normal (tolak H0)\")\n"
   ]
  },
  {
   "cell_type": "code",
   "execution_count": 16,
   "metadata": {},
   "outputs": [
    {
     "name": "stdout",
     "output_type": "stream",
     "text": [
      "p-value: 5.223552540558298e-37\n",
      "Data tidak mengikuti distribusi normal (tolak H0)\n"
     ]
    }
   ],
   "source": [
    "stat, p_value = stats.normaltest((df['Total Claim Amount'])**(1/3))\n",
    "print(\"p-value:\", p_value)\n",
    "\n",
    "alpha= 0.05\n",
    "if p_value > alpha:\n",
    "    print(\"Data tampaknya mengikuti distribusi normal (gagal tolak H0)\")\n",
    "else:\n",
    "    print(\"Data tidak mengikuti distribusi normal (tolak H0)\")\n"
   ]
  },
  {
   "cell_type": "markdown",
   "metadata": {},
   "source": [
    "Untuk kolom 'Total Claim Amount', setelah dilakukan transformasi sqrt atau (x^(1/3)) tampaknya distribusi cenderung lebih mendekati ke distribusi normal, walaupun setelah diuji, belum mempunyai bukti yang kuat bahwa data mengikuti distribusi yang normal. Oleh karena itu, pada prediksi model, untuk kolom ini, akan tetap menggunakan transformasi sqrt atau (x^(1/3))."
   ]
  },
  {
   "cell_type": "code",
   "execution_count": 17,
   "metadata": {},
   "outputs": [
    {
     "data": {
      "text/plain": [
       "<Axes: xlabel='Customer Lifetime Value', ylabel='Count'>"
      ]
     },
     "execution_count": 17,
     "metadata": {},
     "output_type": "execute_result"
    },
    {
     "data": {
      "image/png": "[encoded data removed]",
      "text/plain": [
       "<Figure size 432x288 with 1 Axes>"
      ]
     },
     "metadata": {
      "needs_background": "light"
     },
     "output_type": "display_data"
    }
   ],
   "source": [
    "sns.histplot(np.log(df['Customer Lifetime Value']))"
   ]
  },
  {
   "cell_type": "code",
   "execution_count": 18,
   "metadata": {},
   "outputs": [
    {
     "data": {
      "text/plain": [
       "<Axes: xlabel='Customer Lifetime Value', ylabel='Count'>"
      ]
     },
     "execution_count": 18,
     "metadata": {},
     "output_type": "execute_result"
    },
    {
     "data": {
      "image/png": "[encoded data removed]",
      "text/plain": [
       "<Figure size 432x288 with 1 Axes>"
      ]
     },
     "metadata": {
      "needs_background": "light"
     },
     "output_type": "display_data"
    }
   ],
   "source": [
    "sns.histplot(np.sqrt(df['Customer Lifetime Value']))"
   ]
  },
  {
   "cell_type": "code",
   "execution_count": 19,
   "metadata": {},
   "outputs": [
    {
     "name": "stdout",
     "output_type": "stream",
     "text": [
      "p-value: 2.253869359928932e-52\n",
      "Data tidak mengikuti distribusi normal (tolak H0)\n"
     ]
    }
   ],
   "source": [
    "stat, p_value = stats.normaltest(np.log(df['Customer Lifetime Value']))\n",
    "print(\"p-value:\", p_value)\n",
    "\n",
    "alpha= 0.05\n",
    "if p_value > alpha:\n",
    "    print(\"Data tampaknya mengikuti distribusi normal (gagal tolak H0)\")\n",
    "else:\n",
    "    print(\"Data tidak mengikuti distribusi normal (tolak H0)\")\n"
   ]
  },
  {
   "cell_type": "code",
   "execution_count": 20,
   "metadata": {},
   "outputs": [
    {
     "name": "stdout",
     "output_type": "stream",
     "text": [
      "p-value: 0.0\n",
      "Data tidak mengikuti distribusi normal (tolak H0)\n"
     ]
    }
   ],
   "source": [
    "stat, p_value = stats.normaltest(np.sqrt(df['Customer Lifetime Value']))\n",
    "print(\"p-value:\", p_value)\n",
    "\n",
    "alpha= 0.05\n",
    "if p_value > alpha:\n",
    "    print(\"Data tampaknya mengikuti distribusi normal (gagal tolak H0)\")\n",
    "else:\n",
    "    print(\"Data tidak mengikuti distribusi normal (tolak H0)\")\n"
   ]
  },
  {
   "cell_type": "markdown",
   "metadata": {},
   "source": [
    "Untuk kolom 'Customer Lifetime Value' yang juga merupakan target dari model regresi. Untuk kolom ini, kita akan mencoba untuk menggunakan transformasi log pada data target dan nantinya akan kembali mengembalikan nilainya (invers) setelah prediksi dilakukan."
   ]
  },
  {
   "cell_type": "markdown",
   "metadata": {},
   "source": [
    "Kemudian, kita akan melihat hubungan antara kolom fitur numerik dengan target"
   ]
  },
  {
   "cell_type": "code",
   "execution_count": 21,
   "metadata": {},
   "outputs": [
    {
     "data": {
      "image/png": "[encoded data removed]",
      "text/plain": [
       "<Figure size 576x432 with 2 Axes>"
      ]
     },
     "metadata": {
      "needs_background": "light"
     },
     "output_type": "display_data"
    }
   ],
   "source": [
    "corr_matrix = df[numerical_columns].corr(method='spearman')\n",
    "\n",
    "plt.figure(figsize=(8, 6))\n",
    "sns.heatmap(data=corr_matrix, annot=True, cmap='coolwarm', fmt=\".2f\")\n",
    "plt.title('Correlation Heatmap')\n",
    "plt.show()"
   ]
  },
  {
   "cell_type": "markdown",
   "metadata": {},
   "source": [
    "Dari hasil analisis, korelasi antara target (CLV) dan fitur Number of Policies menunjukkan hubungan positif dengan tingkat korelasi medium (0.49). Hal ini mengindikasikan bahwa semakin tinggi jumlah number of policies yang dimiliki pelanggan, kemungkinan besar nilai CLV mereka juga akan semakin tinggi. Korelasi ini sejalan dengan asumsi bahwa pelanggan dengan jumlah number of policies yang lebih banyak cenderung memiliki tingkat kepercayaan yang lebih tinggi terhadap perusahaan. Oleh karena itu, fitur ini dapat menjadi indikator yang relevan dalam memprediksi nilai CLV setiap pelanggan."
   ]
  },
  {
   "cell_type": "markdown",
   "metadata": {},
   "source": [
    "Fitur Monthly Premium Auto menunjukkan korelasi positif dengan tingkat korelasi medium (0.47) terhadap target (CLV). Oleh karena itu, fitur ini juga dapat digunakan sebagai salah satu variabel dalam memprediksi nilai CLV. Sedangkan untuk fitur sisanya, kita tetap akan memnggunakan fitur tersebut untuk prediksi awal."
   ]
  },
  {
   "cell_type": "code",
   "execution_count": 22,
   "metadata": {},
   "outputs": [
    {
     "data": {
      "image/png": "[encoded data removed]",
      "text/plain": [
       "<Figure size 1152x648 with 4 Axes>"
      ]
     },
     "metadata": {
      "needs_background": "light"
     },
     "output_type": "display_data"
    }
   ],
   "source": [
    "fig, axes = plt.subplots(2,2, figsize=(16,9))\n",
    "\n",
    "axes = axes.ravel()\n",
    "\n",
    "for i, col in enumerate(numerical_columns[:-1]):\n",
    "    axes[i].scatter(df[col], df['Customer Lifetime Value'])\n",
    "    axes[i].set_title(f\"Scatter Plot for {col}\")\n",
    "    axes[i].set_xlabel(\"\")\n",
    "    axes[i].set_ylabel(\"CLV\")\n",
    "    axes[i].tick_params(axis='x', rotation=45)\n",
    "\n",
    "plt.tight_layout()\n",
    "plt.show()"
   ]
  },
  {
   "cell_type": "markdown",
   "metadata": {},
   "source": [
    "Dari scatter plot ini, tampaknya untuk fitur 'Number of Policies' tidak serta merta sesuai dengan asumsi di awal, yang mana bahwa semakin tinggi nilai untuk fitur tsb maka semakin tinggi pula nilai CLV nya. Oleh karena itu, untuk fitur ini kita akan memperlakukan sebagai kategori kategorikal, ketimbang dengan ordinal. Kemudian untuk fitur 'Monthly Premium Auto', terdapat pola yang lebih menyebar dan menunjukkan hubungan linier positif (semakin besar fitur ini, semakin besar CLV). Ini adalah salah satu fitur yang tampaknya relevan untuk CLV karena menunjukkan tren yang cukup jelas dan didukung dengan korelasi yang medium positif. Sedangkan dua sisanya masih belum memiliki hubungan yang jelas dengan CLV."
   ]
  },
  {
   "cell_type": "markdown",
   "metadata": {},
   "source": [
    "Selanjutnya, kita akan mencoba melakuan analisis lebih lanjut untuk data kategorikal/ordinal"
   ]
  },
  {
   "cell_type": "code",
   "execution_count": 23,
   "metadata": {},
   "outputs": [
    {
     "data": {
      "image/png": "[encoded data removed]",
      "text/plain": [
       "<Figure size 1152x648 with 6 Axes>"
      ]
     },
     "metadata": {
      "needs_background": "light"
     },
     "output_type": "display_data"
    }
   ],
   "source": [
    "categorical_columns = ['Vehicle Class', 'Coverage', 'Renew Offer Type', 'EmploymentStatus', 'Marital Status', 'Education']\n",
    "\n",
    "fig, axes = plt.subplots(2,3, figsize=(16,9))\n",
    "\n",
    "axes = axes.ravel()\n",
    "\n",
    "for i, col in enumerate(categorical_columns):\n",
    "    sns.countplot(data=df, x=col, ax=axes[i])\n",
    "    axes[i].set_title(f\"Bar Plot for {col}\")\n",
    "    axes[i].set_xlabel(\"\")\n",
    "    axes[i].set_ylabel(\"Count\")\n",
    "    axes[i].tick_params(axis='x', rotation=45)\n",
    "\n",
    "plt.tight_layout()\n",
    "plt.show()"
   ]
  },
  {
   "cell_type": "code",
   "execution_count": 24,
   "metadata": {},
   "outputs": [],
   "source": [
    "def kruskal_wallis(categorical, target, alpha=0.05):\n",
    "    _, p_value = stats.kruskal(*[df[df[categorical]==category][target] for category in df[categorical].unique()])\n",
    "    status = (f\"There is a signifficant difference between {categorical} groups\") if p_value<alpha else \\\n",
    "        (f\"There is no signifficant difference between {categorical} groups\")\n",
    "    return p_value, status"
   ]
  },
  {
   "cell_type": "code",
   "execution_count": 25,
   "metadata": {},
   "outputs": [
    {
     "name": "stdout",
     "output_type": "stream",
     "text": [
      "For Vehicle Class column:\n",
      "p_value : 6.845692009848847e-167\n",
      "There is a signifficant difference between Vehicle Class groups\n",
      "\n",
      "For Coverage column:\n",
      "p_value : 2.8099076767503512e-68\n",
      "There is a signifficant difference between Coverage groups\n",
      "\n",
      "For Renew Offer Type column:\n",
      "p_value : 6.12426178645605e-23\n",
      "There is a signifficant difference between Renew Offer Type groups\n",
      "\n",
      "For EmploymentStatus column:\n",
      "p_value : 0.00028211274463910016\n",
      "There is a signifficant difference between EmploymentStatus groups\n",
      "\n",
      "For Marital Status column:\n",
      "p_value : 0.09668289750106526\n",
      "There is no signifficant difference between Marital Status groups\n",
      "\n",
      "For Education column:\n",
      "p_value : 0.09115273275245567\n",
      "There is no signifficant difference between Education groups\n",
      "\n"
     ]
    }
   ],
   "source": [
    "for i in categorical_columns:\n",
    "    result = kruskal_wallis(i,'Customer Lifetime Value')\n",
    "    print(f\"For {i} column:\")\n",
    "    print(f\"p_value : {result[0]}\")\n",
    "    print(f\"{result[1]}\")\n",
    "    print()"
   ]
  },
  {
   "cell_type": "markdown",
   "metadata": {},
   "source": [
    "Pada kolom kategorikal tsb., untuk kolom 'Marital Status' dan 'Education' tampak tidak ada perbedaan signifikan antar kategori di setiap kolomnya. Sedangkan yang lainnya tetap ada perbedaan signifikan antar kategorinya. Namun, kita akan tetap menggunakan semua kolomnya untuk prediksi awwal."
   ]
  },
  {
   "cell_type": "code",
   "execution_count": 26,
   "metadata": {},
   "outputs": [
    {
     "data": {
      "text/plain": [
       "array(['Four-Door Car', 'Two-Door Car', 'SUV', 'Sports Car', 'Luxury SUV',\n",
       "       'Luxury Car'], dtype=object)"
      ]
     },
     "execution_count": 26,
     "metadata": {},
     "output_type": "execute_result"
    }
   ],
   "source": [
    "df['Vehicle Class'].unique()"
   ]
  },
  {
   "cell_type": "code",
   "execution_count": 27,
   "metadata": {},
   "outputs": [
    {
     "data": {
      "text/plain": [
       "<Axes: xlabel='Vehicle Class', ylabel='Customer Lifetime Value'>"
      ]
     },
     "execution_count": 27,
     "metadata": {},
     "output_type": "execute_result"
    },
    {
     "data": {
      "image/png": "[encoded data removed]",
      "text/plain": [
       "<Figure size 432x288 with 1 Axes>"
      ]
     },
     "metadata": {
      "needs_background": "light"
     },
     "output_type": "display_data"
    }
   ],
   "source": [
    "sns.boxplot(x='Vehicle Class', y='Customer Lifetime Value', data=df)"
   ]
  },
  {
   "cell_type": "code",
   "execution_count": 28,
   "metadata": {},
   "outputs": [
    {
     "name": "stdout",
     "output_type": "stream",
     "text": [
      "median Four-Door Car = 5324.38786\n",
      "median Two-Door Car = 5225.03143\n",
      "median SUV = 8613.464001\n",
      "median Sports Car = 8774.738289\n",
      "median Luxury SUV = 15167.04402\n",
      "median Luxury Car = 14510.44376\n"
     ]
    }
   ],
   "source": [
    "vc_list=df['Vehicle Class'].unique()\n",
    "for i in vc_list:\n",
    "    median = df[df['Vehicle Class']==i]['Customer Lifetime Value'].median()\n",
    "    print(f\"median {i} = {median}\")"
   ]
  },
  {
   "cell_type": "code",
   "execution_count": 29,
   "metadata": {},
   "outputs": [
    {
     "name": "stdout",
     "output_type": "stream",
     "text": [
      "mean Four-Door Car = 6617.086574901365\n",
      "mean Two-Door Car = 6657.7178008725205\n",
      "mean SUV = 10501.784337763238\n",
      "mean Sports Car = 11543.506771862596\n",
      "mean Luxury SUV = 18587.427902495052\n",
      "mean Luxury Car = 16536.158479653466\n"
     ]
    }
   ],
   "source": [
    "vc_list=df['Vehicle Class'].unique()\n",
    "for i in vc_list:\n",
    "    mean = df[df['Vehicle Class']==i]['Customer Lifetime Value'].mean()\n",
    "    print(f\"mean {i} = {mean}\")"
   ]
  },
  {
   "cell_type": "code",
   "execution_count": 30,
   "metadata": {},
   "outputs": [],
   "source": [
    "#buat df baru\n",
    "df2 = pd.DataFrame()\n",
    "\n",
    "kategori_vc = ['Two-Door Car','Four-Door Car','SUV', 'Sports Car', 'Luxury Car', 'Luxury SUV']\n",
    "df['Vehicle Class'] = pd.Categorical(df['Vehicle Class'], categories=kategori_vc, ordered=True)\n",
    "df2['VC encoded'] = df['Vehicle Class'].cat.codes"
   ]
  },
  {
   "cell_type": "code",
   "execution_count": 31,
   "metadata": {},
   "outputs": [
    {
     "name": "stdout",
     "output_type": "stream",
     "text": [
      "Spearman Correlation: 0.336166166743998, p-value: 1.1136803213768308e-133\n"
     ]
    }
   ],
   "source": [
    "corr, p_value = stats.spearmanr(df2['VC encoded'], df['Customer Lifetime Value'])\n",
    "print(f\"Spearman Correlation: {corr}, p-value: {p_value}\")"
   ]
  },
  {
   "cell_type": "markdown",
   "metadata": {},
   "source": [
    "Berdasarkan plot distribusi fitur 'Vehicle Class' dan nilai korelasi Spearman sebesar 0.33 setelah dilakukan encoding, serta p-value < 0.05, fitur ini menunjukkan bahwa 'Vehicle Class' dapat dianggap sebagai data ordinal karena adanya hubungan monoton positif dengan target.\n",
    "\n",
    "Hal ini juga selaras dengan real case, di mana setiap kategori Vehicle Class yang semakin tinggi nilainya atau semakin mewah, cenderung berdampak pada peningkatan nilai Customer Lifetime Value (CLV). Pelanggan dengan kelas kendaraan yang lebih tinggi biasanya memiliki potensi kontribusi yang lebih besar terhadap perusahaan, baik dari segi pembelian tambahan, loyalitas, maupun penggunaan layanan premium."
   ]
  },
  {
   "cell_type": "code",
   "execution_count": 32,
   "metadata": {},
   "outputs": [
    {
     "data": {
      "text/plain": [
       "array(['Extended', 'Basic', 'Premium'], dtype=object)"
      ]
     },
     "execution_count": 32,
     "metadata": {},
     "output_type": "execute_result"
    }
   ],
   "source": [
    "df['Coverage'].unique()"
   ]
  },
  {
   "cell_type": "code",
   "execution_count": 33,
   "metadata": {},
   "outputs": [
    {
     "data": {
      "text/plain": [
       "<Axes: xlabel='Coverage', ylabel='Customer Lifetime Value'>"
      ]
     },
     "execution_count": 33,
     "metadata": {},
     "output_type": "execute_result"
    },
    {
     "data": {
      "image/png": "[encoded data removed]",
      "text/plain": [
       "<Figure size 432x288 with 1 Axes>"
      ]
     },
     "metadata": {
      "needs_background": "light"
     },
     "output_type": "display_data"
    }
   ],
   "source": [
    "sns.boxplot(x='Coverage', y='Customer Lifetime Value', data=df)"
   ]
  },
  {
   "cell_type": "code",
   "execution_count": 34,
   "metadata": {},
   "outputs": [
    {
     "name": "stdout",
     "output_type": "stream",
     "text": [
      "Spearman Correlation: 0.24494062389501953, p-value: 6.698165748720366e-70\n"
     ]
    }
   ],
   "source": [
    "kategori_coverage = ['Basic', 'Extended', 'Premium']\n",
    "df['Coverage'] = pd.Categorical(df['Coverage'], categories=kategori_coverage, ordered=True)\n",
    "df2['Coverage encoded'] = df['Coverage'].cat.codes\n",
    "\n",
    "corr, p_value = stats.spearmanr(df2['Coverage encoded'], df['Customer Lifetime Value'])\n",
    "print(f\"Spearman Correlation: {corr}, p-value: {p_value}\")"
   ]
  },
  {
   "cell_type": "markdown",
   "metadata": {},
   "source": [
    "Hal yang sama juga dilakukan untuk fitur 'Coverage'. Berdasarkan distribusi data dan nilai korelasi, fitur ini diperlakukan sebagai data ordinal, karena tipe 'Coverage' memiliki pengaruh langsung terhadap nilai Customer Lifetime Value (CLV). Secara logis, Coverage bertipe 'Premium' cenderung memiliki nilai CLV yang lebih tinggi dibandingkan tipe 'Extended' maupun 'Basic'."
   ]
  },
  {
   "cell_type": "code",
   "execution_count": 35,
   "metadata": {},
   "outputs": [
    {
     "data": {
      "text/plain": [
       "array(['Offer1', 'Offer3', 'Offer2', 'Offer4'], dtype=object)"
      ]
     },
     "execution_count": 35,
     "metadata": {},
     "output_type": "execute_result"
    }
   ],
   "source": [
    "df['Renew Offer Type'].unique()"
   ]
  },
  {
   "cell_type": "code",
   "execution_count": 36,
   "metadata": {},
   "outputs": [
    {
     "data": {
      "text/plain": [
       "<Axes: xlabel='Renew Offer Type', ylabel='Customer Lifetime Value'>"
      ]
     },
     "execution_count": 36,
     "metadata": {},
     "output_type": "execute_result"
    },
    {
     "data": {
      "image/png": "[encoded data removed]",
      "text/plain": [
       "<Figure size 432x288 with 1 Axes>"
      ]
     },
     "metadata": {
      "needs_background": "light"
     },
     "output_type": "display_data"
    }
   ],
   "source": [
    "sns.boxplot(x='Renew Offer Type', y='Customer Lifetime Value', data=df)"
   ]
  },
  {
   "cell_type": "code",
   "execution_count": 37,
   "metadata": {},
   "outputs": [
    {
     "name": "stdout",
     "output_type": "stream",
     "text": [
      "median Offer1 = 6832.111972\n",
      "median Offer3 = 5757.489397\n",
      "median Offer2 = 5416.413581\n",
      "median Offer4 = 5222.656199\n"
     ]
    }
   ],
   "source": [
    "rot_list=df['Renew Offer Type'].unique()\n",
    "for i in rot_list:\n",
    "    median = df[df['Renew Offer Type']==i]['Customer Lifetime Value'].median()\n",
    "    print(f\"median {i} = {median}\")"
   ]
  },
  {
   "cell_type": "code",
   "execution_count": 38,
   "metadata": {},
   "outputs": [
    {
     "name": "stdout",
     "output_type": "stream",
     "text": [
      "Spearman Correlation: 0.14361425403349162, p-value: 1.0961051139724265e-24\n"
     ]
    }
   ],
   "source": [
    "kategori_rot= ['Offer4', 'Offer2', 'Offer3', 'Offer1']\n",
    "df['Renew Offer Type'] = pd.Categorical(df['Renew Offer Type'], categories=kategori_rot, ordered=True)\n",
    "df2['Rot encoded'] = df['Renew Offer Type'].cat.codes\n",
    "\n",
    "corr, p_value = stats.spearmanr(df2['Rot encoded'], df['Customer Lifetime Value'])\n",
    "print(f\"Spearman Correlation: {corr}, p-value: {p_value}\")"
   ]
  },
  {
   "cell_type": "markdown",
   "metadata": {},
   "source": [
    "Untuk fitur 'Renew Offer Type', berdasarkan nilai korelasi Spearman sebesar 0.146 dan distribusi data, fitur ini akan dikategorikan sebagai data kategorikal. Hal ini dikarenakan hubungan antara 'Renew Offer Type' dan Customer Lifetime Value (CLV) cenderung lemah dan tidak menunjukkan pola urutan yang konsisten antar kategori. Selain itu, secara logis, tipe penawaran pembaruan ini lebih merepresentasikan perbedaan sifat atau jenis penawaran, tanpa hierarki tertentu yang relevan dengan nilai CLV."
   ]
  },
  {
   "cell_type": "markdown",
   "metadata": {},
   "source": [
    "Selanjutnya, fitur 'EmploymentStatus' dan 'Marital Status' akan tetap dikategorikan sebagai data kategorikal karena secara konsep tidak terdapat hierarki atau urutan logis di antara kategori-kategorinya. Sementara itu, fitur 'Education' akan dikategorikan sebagai data ordinal karena memiliki hierarki yang jelas pada setiap tingkatannya, seperti 'High School or Below' < 'College' < 'Bachelor' < 'Master' < 'Doctor'.\n",
    "\n",
    "Selain itu, analisis juga akan dilakukan untuk memeriksa apakah pelanggan dengan Income = 0 selalu termasuk dalam tipe 'Unemployed' pada fitur 'EmploymentStatus', dan sebaliknya, untuk memastikan hubungan logis antara kedua fitur tersebut. Analisis ini penting untuk menentukan relevansi dan kemungkinan redundansi antara 'EmploymentStatus' dan Income dalam model prediksi."
   ]
  },
  {
   "cell_type": "code",
   "execution_count": 39,
   "metadata": {},
   "outputs": [
    {
     "data": {
      "text/plain": [
       "array([0.])"
      ]
     },
     "execution_count": 39,
     "metadata": {},
     "output_type": "execute_result"
    }
   ],
   "source": [
    "df[df['EmploymentStatus']=='Unemployed']['Income'].unique()"
   ]
  },
  {
   "cell_type": "code",
   "execution_count": 40,
   "metadata": {},
   "outputs": [
    {
     "data": {
      "text/plain": [
       "array(['Unemployed'], dtype=object)"
      ]
     },
     "execution_count": 40,
     "metadata": {},
     "output_type": "execute_result"
    }
   ],
   "source": [
    "df[df['Income']==0]['EmploymentStatus'].unique()"
   ]
  },
  {
   "cell_type": "code",
   "execution_count": 41,
   "metadata": {},
   "outputs": [
    {
     "data": {
      "text/plain": [
       "array([11828., 21514., 24910., 18608., 26806., 13528., 17622., 21073.,\n",
       "       21835., 27681., 13663., 13215., 22283., 20993., 28215., 19683.,\n",
       "       28321., 25147., 23376., 15648., 22567., 23665., 10621., 14290.,\n",
       "       10312., 13424., 25251., 19614., 20228., 23904., 27972., 19651.,\n",
       "       18577., 21959., 19581., 12902., 14973., 12201., 26802., 13624.,\n",
       "       25905., 13688., 16972., 23091., 23931., 14030., 24711., 10475.,\n",
       "       22828., 12454., 20983., 27504., 26714., 17557., 23909., 19782.,\n",
       "       24182., 29692., 28140., 17220., 20608., 25859., 21861., 26000.,\n",
       "       28142., 16794., 10337., 26121., 17752., 28120., 21004., 19186.,\n",
       "       18866., 26161., 21442., 15630., 19794., 20538., 24589., 26952.,\n",
       "       20862., 15520., 16224., 10787.])"
      ]
     },
     "execution_count": 41,
     "metadata": {},
     "output_type": "execute_result"
    }
   ],
   "source": [
    "df[df['EmploymentStatus']=='Retired']['Income'].unique()"
   ]
  },
  {
   "cell_type": "code",
   "execution_count": 42,
   "metadata": {},
   "outputs": [
    {
     "data": {
      "text/plain": [
       "array([19030., 20325., 20567., 14665., 18643., 19861., 16686., 13164.,\n",
       "       22571., 15406., 26441., 16266., 12222., 16531., 12811., 19352.,\n",
       "       12048., 17780., 19064., 17130., 12780., 19121., 23053., 14306.,\n",
       "       20588., 25965., 13037., 22166., 15144., 29735., 18944., 23908.,\n",
       "       13154., 10237., 10334., 22338., 23554., 16154., 27132., 19066.,\n",
       "       18606., 14072., 19715., 16483., 20978., 22974., 19591., 22439.,\n",
       "       26463., 14382., 15462., 25370., 18505., 23638., 22520., 17161.,\n",
       "       29658., 24383., 21638., 12075., 11896., 29095., 24992., 15585.,\n",
       "       22842., 18129., 21238., 17576., 13610., 22070., 12607., 27229.,\n",
       "       13512., 16618., 28646., 14278., 21616., 20225., 25261., 22932.,\n",
       "       24046., 13908., 28513., 16244., 23051., 17101., 10563., 24641.,\n",
       "       18064., 19834., 24030., 27339., 26304., 12964., 17120., 20394.,\n",
       "       23748., 11489., 10194., 24584., 25550., 28700., 18120., 15752.,\n",
       "       15340., 18779., 19098., 10629., 18107., 10037., 26367., 24518.,\n",
       "       17449., 27849., 28806., 16476., 16707., 18263., 21275., 19013.,\n",
       "       16654., 18846., 25049., 16258., 12287., 11167., 12430., 23749.,\n",
       "       22821., 27558., 19831., 26660., 17932., 21832., 25545., 11343.,\n",
       "       12617., 29136., 17193., 25646., 28613., 23480., 27510., 15514.,\n",
       "       24152., 21921., 10211., 29926., 29539., 12266., 26526., 26854.,\n",
       "       28519., 28280., 21594., 12439., 20832., 17269., 25236., 16370.,\n",
       "       21708., 13393., 16764., 19464., 20282., 15616., 23830., 15505.,\n",
       "       10710., 12153., 15300., 23504., 12608., 19592., 27869., 23285.,\n",
       "       22699., 23253., 29177., 23220., 22854., 10540., 14775., 15142.,\n",
       "       26334., 22510., 22906., 23402., 16891., 19581., 15818., 11854.,\n",
       "       17162., 17658., 21876., 21137., 18892., 25630., 20101., 18168.,\n",
       "       16513., 25852., 16113., 16143., 20079., 24345., 29414., 26239.,\n",
       "       28879., 23811., 18047., 29120., 27500., 19189., 23843., 17514.,\n",
       "       29439., 29790., 26736., 26376., 24378., 16645., 28666., 17250.,\n",
       "       24732., 24417., 19637., 22319., 14315., 25125., 17331.])"
      ]
     },
     "execution_count": 42,
     "metadata": {},
     "output_type": "execute_result"
    }
   ],
   "source": [
    "df[df['EmploymentStatus']=='Medical Leave']['Income'].unique()"
   ]
  },
  {
   "cell_type": "code",
   "execution_count": 43,
   "metadata": {},
   "outputs": [
    {
     "data": {
      "text/plain": [
       "array([11828., 21514., 24910., 18608., 26806., 13528., 17622., 21073.,\n",
       "       21835., 27681., 13663., 13215., 22283., 20993., 28215., 19683.,\n",
       "       28321., 25147., 23376., 15648., 22567., 23665., 10621., 14290.,\n",
       "       10312., 13424., 25251., 19614., 20228., 23904., 27972., 19651.,\n",
       "       18577., 21959., 19581., 12902., 14973., 12201., 26802., 13624.,\n",
       "       25905., 13688., 16972., 23091., 23931., 14030., 24711., 10475.,\n",
       "       22828., 12454., 20983., 27504., 26714., 17557., 23909., 19782.,\n",
       "       24182., 29692., 28140., 17220., 20608., 25859., 21861., 26000.,\n",
       "       28142., 16794., 10337., 26121., 17752., 28120., 21004., 19186.,\n",
       "       18866., 26161., 21442., 15630., 19794., 20538., 24589., 26952.,\n",
       "       20862., 15520., 16224., 10787.])"
      ]
     },
     "execution_count": 43,
     "metadata": {},
     "output_type": "execute_result"
    }
   ],
   "source": [
    "df[df['EmploymentStatus']=='Retired']['Income'].unique()"
   ]
  },
  {
   "cell_type": "code",
   "execution_count": 44,
   "metadata": {},
   "outputs": [
    {
     "data": {
      "text/plain": [
       "array([44762., 94389., 25419., ..., 27778., 84658., 60184.])"
      ]
     },
     "execution_count": 44,
     "metadata": {},
     "output_type": "execute_result"
    }
   ],
   "source": [
    "df[df['EmploymentStatus']=='Employed']['Income'].unique()"
   ]
  },
  {
   "cell_type": "markdown",
   "metadata": {},
   "source": [
    "Dari hasil analisis, ditemukan bahwa jika EmploymentStatus bernilai 'Unemployed', maka Income selalu bernilai nol, dan sebaliknya. Namun, untuk kategori selain 'Unemployed', nilai Income bervariasi tergantung pada status pekerjaan, seperti Retired, Medical Leave, atau Disabled, yang memiliki pola penghasilan berbeda. Oleh karena itu, kedua fitur ini tetap akan digunakan dalam prediksi karena masing-masing menyumbangkan informasi unik yang tidak sepenuhnya terwakili satu sama lain."
   ]
  },
  {
   "cell_type": "markdown",
   "metadata": {},
   "source": [
    "### **Modeling**"
   ]
  },
  {
   "cell_type": "code",
   "execution_count": 45,
   "metadata": {},
   "outputs": [],
   "source": [
    "X = df.drop(columns='Customer Lifetime Value')\n",
    "y = df['Customer Lifetime Value'] "
   ]
  },
  {
   "cell_type": "code",
   "execution_count": 46,
   "metadata": {},
   "outputs": [],
   "source": [
    "group1 = ['Monthly Premium Auto', 'Income']\n",
    "group2 = ['Renew Offer Type', 'EmploymentStatus', 'Marital Status', 'Number of Policies']\n",
    "group3 = ['Vehicle Class', 'Coverage', 'Education']\n",
    "\n",
    "vehicle_order = ['Two-Door Car','Four-Door Car','SUV', 'Sports Car', 'Luxury Car', 'Luxury SUV']\n",
    "coverage_order = ['Basic', 'Extended', 'Premium']\n",
    "education_order = ['High School or Below', 'College', 'Bachelor', 'Master', 'Doctor']\n",
    "\n",
    "transformer1 = Pipeline(steps=[\n",
    "    ('robust', RobustScaler()),\n",
    "    ('minmax', MinMaxScaler())\n",
    "])\n",
    "\n",
    "transformer2 = Pipeline(steps=[\n",
    "    ('onehot',OneHotEncoder(handle_unknown='ignore'))\n",
    "])\n",
    "\n",
    "transformer3 = Pipeline(steps=[\n",
    "    ('ordinal', OrdinalEncoder(categories=[vehicle_order, coverage_order,education_order])),\n",
    "    ('minmax', MinMaxScaler())\n",
    "])\n",
    "\n",
    "transformer4 = Pipeline(steps=[\n",
    "    ('log_transform', FunctionTransformer(func=np.cbrt)),\n",
    "    ('robust', RobustScaler()),\n",
    "    ('minmax', MinMaxScaler())\n",
    "])\n",
    "Transform = ColumnTransformer([\n",
    "    ('g1', transformer1, group1),\n",
    "    ('g2', transformer2, group2),\n",
    "    ('g3', transformer3, group3),\n",
    "    ('g4', transformer4, ['Total Claim Amount'])\n",
    "], remainder = 'passthrough')"
   ]
  },
  {
   "cell_type": "code",
   "execution_count": 47,
   "metadata": {},
   "outputs": [],
   "source": [
    "linreg = LinearRegression()\n",
    "ridge = Ridge()\n",
    "lasso = Lasso()\n",
    "ranfor = RandomForestRegressor()\n",
    "svm = SVR()\n",
    "knn = KNeighborsRegressor()\n",
    "xgbr = xgb.XGBRFRegressor()\n",
    "lgbr = lgb.LGBMRegressor(verbosity=-1)"
   ]
  },
  {
   "cell_type": "code",
   "execution_count": 48,
   "metadata": {},
   "outputs": [],
   "source": [
    "models = [linreg, ridge, lasso, ranfor, svm, knn, xgbr, lgbr]\n",
    "metrics = ['r2', 'neg_mean_squared_error', 'neg_mean_absolute_error', 'neg_mean_absolute_percentage_error']\n",
    "mean = {}\n",
    "\n",
    "kf = KFold(n_splits=5, shuffle=True, random_state=42)\n",
    "for index, model in enumerate(models):\n",
    "    pipeline = Pipeline(steps=[\n",
    "        ('transformer', Transform),\n",
    "        ('model', model)\n",
    "    ])\n",
    "    \n",
    "    metric_mean = []\n",
    "    for metric in metrics:\n",
    "        model_cv = cross_val_score(pipeline, X, y, cv=kf, scoring=metric)\n",
    "        result  = round(model_cv.mean(),2)\n",
    "        if metric == 'r2':\n",
    "            metric_mean.append(result)\n",
    "        elif metric == 'neg_mean_squared_error':\n",
    "            result2 = round(np.sqrt(-result),2)\n",
    "            metric_mean.append(-result)\n",
    "            metric_mean.append(result2)\n",
    "        else:\n",
    "            metric_mean.append(-result)\n",
    "\n",
    "    mean[index] = metric_mean\n"
   ]
  },
  {
   "cell_type": "code",
   "execution_count": 49,
   "metadata": {},
   "outputs": [
    {
     "data": {
      "text/html": [
       "<div>\n",
       "<style scoped>\n",
       "    .dataframe tbody tr th:only-of-type {\n",
       "        vertical-align: middle;\n",
       "    }\n",
       "\n",
       "    .dataframe tbody tr th {\n",
       "        vertical-align: top;\n",
       "    }\n",
       "\n",
       "    .dataframe thead th {\n",
       "        text-align: right;\n",
       "    }\n",
       "</style>\n",
       "<table border=\"1\" class=\"dataframe\">\n",
       "  <thead>\n",
       "    <tr style=\"text-align: right;\">\n",
       "      <th></th>\n",
       "      <th>Model</th>\n",
       "      <th>R^2</th>\n",
       "      <th>MSE</th>\n",
       "      <th>RMSE</th>\n",
       "      <th>MAE</th>\n",
       "      <th>MAPE</th>\n",
       "    </tr>\n",
       "  </thead>\n",
       "  <tbody>\n",
       "    <tr>\n",
       "      <th>0</th>\n",
       "      <td>Linear Regression</td>\n",
       "      <td>0.64</td>\n",
       "      <td>17717529.98</td>\n",
       "      <td>4209.22</td>\n",
       "      <td>2121.70</td>\n",
       "      <td>0.25</td>\n",
       "    </tr>\n",
       "    <tr>\n",
       "      <th>1</th>\n",
       "      <td>Ridge</td>\n",
       "      <td>0.64</td>\n",
       "      <td>17722254.04</td>\n",
       "      <td>4209.78</td>\n",
       "      <td>2114.34</td>\n",
       "      <td>0.25</td>\n",
       "    </tr>\n",
       "    <tr>\n",
       "      <th>2</th>\n",
       "      <td>Lasso</td>\n",
       "      <td>0.64</td>\n",
       "      <td>17715947.63</td>\n",
       "      <td>4209.03</td>\n",
       "      <td>2116.76</td>\n",
       "      <td>0.25</td>\n",
       "    </tr>\n",
       "    <tr>\n",
       "      <th>3</th>\n",
       "      <td>Random Forest</td>\n",
       "      <td>0.65</td>\n",
       "      <td>17053442.16</td>\n",
       "      <td>4129.58</td>\n",
       "      <td>1685.09</td>\n",
       "      <td>0.12</td>\n",
       "    </tr>\n",
       "    <tr>\n",
       "      <th>4</th>\n",
       "      <td>SVM</td>\n",
       "      <td>-0.08</td>\n",
       "      <td>52574528.82</td>\n",
       "      <td>7250.83</td>\n",
       "      <td>4026.99</td>\n",
       "      <td>0.49</td>\n",
       "    </tr>\n",
       "    <tr>\n",
       "      <th>5</th>\n",
       "      <td>KNN</td>\n",
       "      <td>0.54</td>\n",
       "      <td>22440525.73</td>\n",
       "      <td>4737.14</td>\n",
       "      <td>2359.89</td>\n",
       "      <td>0.22</td>\n",
       "    </tr>\n",
       "    <tr>\n",
       "      <th>6</th>\n",
       "      <td>XGB</td>\n",
       "      <td>0.68</td>\n",
       "      <td>15639005.38</td>\n",
       "      <td>3954.62</td>\n",
       "      <td>1704.71</td>\n",
       "      <td>0.13</td>\n",
       "    </tr>\n",
       "    <tr>\n",
       "      <th>7</th>\n",
       "      <td>LGBM</td>\n",
       "      <td>0.66</td>\n",
       "      <td>16585393.63</td>\n",
       "      <td>4072.52</td>\n",
       "      <td>1766.62</td>\n",
       "      <td>0.14</td>\n",
       "    </tr>\n",
       "  </tbody>\n",
       "</table>\n",
       "</div>"
      ],
      "text/plain": [
       "               Model   R^2          MSE     RMSE      MAE  MAPE\n",
       "0  Linear Regression  0.64  17717529.98  4209.22  2121.70  0.25\n",
       "1              Ridge  0.64  17722254.04  4209.78  2114.34  0.25\n",
       "2              Lasso  0.64  17715947.63  4209.03  2116.76  0.25\n",
       "3      Random Forest  0.65  17053442.16  4129.58  1685.09  0.12\n",
       "4                SVM -0.08  52574528.82  7250.83  4026.99  0.49\n",
       "5                KNN  0.54  22440525.73  4737.14  2359.89  0.22\n",
       "6                XGB  0.68  15639005.38  3954.62  1704.71  0.13\n",
       "7               LGBM  0.66  16585393.63  4072.52  1766.62  0.14"
      ]
     },
     "execution_count": 49,
     "metadata": {},
     "output_type": "execute_result"
    }
   ],
   "source": [
    "metric_name = ['R^2','MSE','RMSE','MAE','MAPE']\n",
    "model_name = ['Linear Regression', 'Ridge','Lasso','Random Forest','SVM','KNN','XGB','LGBM']\n",
    "metric_table = pd.DataFrame(mean).T\n",
    "metric_table.columns=metric_name\n",
    "metric_table.insert(0,'Model', model_name)\n",
    "metric_table"
   ]
  },
  {
   "cell_type": "markdown",
   "metadata": {},
   "source": [
    "Pada tahap ini, kita memilih satu model yang akan digunakan untuk prediksi selanjutnya. XGBoost dipilih karena memiliki kinerja yang sangat unggul di semua metrik utama dibandingkan model lainnya. Dengan R² sebesar 0.68, XGBoost dapat menjelaskan sebagian besar variansi dalam data, yang menunjukkan kemampuannya dalam menghasilkan prediksi yang akurat. Selain itu, MSE, RMSE, MAE, dan MAPE yang lebih rendah dibandingkan model lain menunjukkan bahwa XGBoost menghasilkan kesalahan prediksi yang lebih kecil dan lebih stabil. Keunggulan ini berasal dari kemampuan boosting yang secara iteratif mengoptimalkan model, memungkinkan XGBoost untuk menangani hubungan non-linear yang kompleks dengan lebih efektif. Oleh karena itu, XGBoost adalah model yang paling tepat untuk dianalisis lebih lanjut guna mendapatkan performa terbaik."
   ]
  },
  {
   "cell_type": "markdown",
   "metadata": {},
   "source": [
    "Selanjutnya, kita mencoba untuk melihat feature importance dari model awal kita dengan menggunakan XGB Regressor dan mencoba untuk menganalisis lebih lanjut untuk setiap fiturnya."
   ]
  },
  {
   "cell_type": "code",
   "execution_count": 50,
   "metadata": {},
   "outputs": [
    {
     "data": {
      "text/html": [
       "<div>\n",
       "<style scoped>\n",
       "    .dataframe tbody tr th:only-of-type {\n",
       "        vertical-align: middle;\n",
       "    }\n",
       "\n",
       "    .dataframe tbody tr th {\n",
       "        vertical-align: top;\n",
       "    }\n",
       "\n",
       "    .dataframe thead th {\n",
       "        text-align: right;\n",
       "    }\n",
       "</style>\n",
       "<table border=\"1\" class=\"dataframe\">\n",
       "  <thead>\n",
       "    <tr style=\"text-align: right;\">\n",
       "      <th></th>\n",
       "      <th>Monthly Premium Auto</th>\n",
       "      <th>Income</th>\n",
       "      <th>Renew Offer Type_Offer1</th>\n",
       "      <th>Renew Offer Type_Offer2</th>\n",
       "      <th>Renew Offer Type_Offer3</th>\n",
       "      <th>Renew Offer Type_Offer4</th>\n",
       "      <th>EmploymentStatus_Disabled</th>\n",
       "      <th>EmploymentStatus_Employed</th>\n",
       "      <th>EmploymentStatus_Medical Leave</th>\n",
       "      <th>EmploymentStatus_Retired</th>\n",
       "      <th>...</th>\n",
       "      <th>Number of Policies_4.0</th>\n",
       "      <th>Number of Policies_5.0</th>\n",
       "      <th>Number of Policies_6.0</th>\n",
       "      <th>Number of Policies_7.0</th>\n",
       "      <th>Number of Policies_8.0</th>\n",
       "      <th>Number of Policies_9.0</th>\n",
       "      <th>Vehicle Class</th>\n",
       "      <th>Coverage</th>\n",
       "      <th>Education</th>\n",
       "      <th>log_Total_Claim_Amount</th>\n",
       "    </tr>\n",
       "  </thead>\n",
       "  <tbody>\n",
       "    <tr>\n",
       "      <th>0</th>\n",
       "      <td>0.122881</td>\n",
       "      <td>0.118358</td>\n",
       "      <td>1.0</td>\n",
       "      <td>0.0</td>\n",
       "      <td>0.0</td>\n",
       "      <td>0.0</td>\n",
       "      <td>0.0</td>\n",
       "      <td>0.0</td>\n",
       "      <td>0.0</td>\n",
       "      <td>1.0</td>\n",
       "      <td>...</td>\n",
       "      <td>0.0</td>\n",
       "      <td>0.0</td>\n",
       "      <td>0.0</td>\n",
       "      <td>0.0</td>\n",
       "      <td>0.0</td>\n",
       "      <td>0.0</td>\n",
       "      <td>0.2</td>\n",
       "      <td>0.5</td>\n",
       "      <td>0.00</td>\n",
       "      <td>0.568521</td>\n",
       "    </tr>\n",
       "    <tr>\n",
       "      <th>1</th>\n",
       "      <td>0.004237</td>\n",
       "      <td>0.447916</td>\n",
       "      <td>1.0</td>\n",
       "      <td>0.0</td>\n",
       "      <td>0.0</td>\n",
       "      <td>0.0</td>\n",
       "      <td>0.0</td>\n",
       "      <td>1.0</td>\n",
       "      <td>0.0</td>\n",
       "      <td>0.0</td>\n",
       "      <td>...</td>\n",
       "      <td>0.0</td>\n",
       "      <td>0.0</td>\n",
       "      <td>1.0</td>\n",
       "      <td>0.0</td>\n",
       "      <td>0.0</td>\n",
       "      <td>0.0</td>\n",
       "      <td>0.2</td>\n",
       "      <td>0.0</td>\n",
       "      <td>0.25</td>\n",
       "      <td>0.309224</td>\n",
       "    </tr>\n",
       "    <tr>\n",
       "      <th>2</th>\n",
       "      <td>0.004237</td>\n",
       "      <td>0.215282</td>\n",
       "      <td>1.0</td>\n",
       "      <td>0.0</td>\n",
       "      <td>0.0</td>\n",
       "      <td>0.0</td>\n",
       "      <td>0.0</td>\n",
       "      <td>0.0</td>\n",
       "      <td>0.0</td>\n",
       "      <td>1.0</td>\n",
       "      <td>...</td>\n",
       "      <td>0.0</td>\n",
       "      <td>0.0</td>\n",
       "      <td>0.0</td>\n",
       "      <td>0.0</td>\n",
       "      <td>0.0</td>\n",
       "      <td>0.0</td>\n",
       "      <td>0.0</td>\n",
       "      <td>0.0</td>\n",
       "      <td>0.75</td>\n",
       "      <td>0.422498</td>\n",
       "    </tr>\n",
       "    <tr>\n",
       "      <th>3</th>\n",
       "      <td>0.233051</td>\n",
       "      <td>0.179248</td>\n",
       "      <td>0.0</td>\n",
       "      <td>0.0</td>\n",
       "      <td>1.0</td>\n",
       "      <td>0.0</td>\n",
       "      <td>1.0</td>\n",
       "      <td>0.0</td>\n",
       "      <td>0.0</td>\n",
       "      <td>0.0</td>\n",
       "      <td>...</td>\n",
       "      <td>0.0</td>\n",
       "      <td>0.0</td>\n",
       "      <td>0.0</td>\n",
       "      <td>0.0</td>\n",
       "      <td>0.0</td>\n",
       "      <td>0.0</td>\n",
       "      <td>0.2</td>\n",
       "      <td>1.0</td>\n",
       "      <td>0.00</td>\n",
       "      <td>0.563122</td>\n",
       "    </tr>\n",
       "    <tr>\n",
       "      <th>4</th>\n",
       "      <td>0.004237</td>\n",
       "      <td>0.190426</td>\n",
       "      <td>0.0</td>\n",
       "      <td>0.0</td>\n",
       "      <td>1.0</td>\n",
       "      <td>0.0</td>\n",
       "      <td>0.0</td>\n",
       "      <td>0.0</td>\n",
       "      <td>1.0</td>\n",
       "      <td>0.0</td>\n",
       "      <td>...</td>\n",
       "      <td>0.0</td>\n",
       "      <td>0.0</td>\n",
       "      <td>0.0</td>\n",
       "      <td>0.0</td>\n",
       "      <td>0.0</td>\n",
       "      <td>0.0</td>\n",
       "      <td>0.0</td>\n",
       "      <td>0.0</td>\n",
       "      <td>0.00</td>\n",
       "      <td>0.477201</td>\n",
       "    </tr>\n",
       "  </tbody>\n",
       "</table>\n",
       "<p>5 rows × 27 columns</p>\n",
       "</div>"
      ],
      "text/plain": [
       "   Monthly Premium Auto    Income  Renew Offer Type_Offer1  \\\n",
       "0              0.122881  0.118358                      1.0   \n",
       "1              0.004237  0.447916                      1.0   \n",
       "2              0.004237  0.215282                      1.0   \n",
       "3              0.233051  0.179248                      0.0   \n",
       "4              0.004237  0.190426                      0.0   \n",
       "\n",
       "   Renew Offer Type_Offer2  Renew Offer Type_Offer3  Renew Offer Type_Offer4  \\\n",
       "0                      0.0                      0.0                      0.0   \n",
       "1                      0.0                      0.0                      0.0   \n",
       "2                      0.0                      0.0                      0.0   \n",
       "3                      0.0                      1.0                      0.0   \n",
       "4                      0.0                      1.0                      0.0   \n",
       "\n",
       "   EmploymentStatus_Disabled  EmploymentStatus_Employed  \\\n",
       "0                        0.0                        0.0   \n",
       "1                        0.0                        1.0   \n",
       "2                        0.0                        0.0   \n",
       "3                        1.0                        0.0   \n",
       "4                        0.0                        0.0   \n",
       "\n",
       "   EmploymentStatus_Medical Leave  EmploymentStatus_Retired  ...  \\\n",
       "0                             0.0                       1.0  ...   \n",
       "1                             0.0                       0.0  ...   \n",
       "2                             0.0                       1.0  ...   \n",
       "3                             0.0                       0.0  ...   \n",
       "4                             1.0                       0.0  ...   \n",
       "\n",
       "   Number of Policies_4.0  Number of Policies_5.0  Number of Policies_6.0  \\\n",
       "0                     0.0                     0.0                     0.0   \n",
       "1                     0.0                     0.0                     1.0   \n",
       "2                     0.0                     0.0                     0.0   \n",
       "3                     0.0                     0.0                     0.0   \n",
       "4                     0.0                     0.0                     0.0   \n",
       "\n",
       "   Number of Policies_7.0  Number of Policies_8.0  Number of Policies_9.0  \\\n",
       "0                     0.0                     0.0                     0.0   \n",
       "1                     0.0                     0.0                     0.0   \n",
       "2                     0.0                     0.0                     0.0   \n",
       "3                     0.0                     0.0                     0.0   \n",
       "4                     0.0                     0.0                     0.0   \n",
       "\n",
       "   Vehicle Class  Coverage  Education  log_Total_Claim_Amount  \n",
       "0            0.2       0.5       0.00                0.568521  \n",
       "1            0.2       0.0       0.25                0.309224  \n",
       "2            0.0       0.0       0.75                0.422498  \n",
       "3            0.2       1.0       0.00                0.563122  \n",
       "4            0.0       0.0       0.00                0.477201  \n",
       "\n",
       "[5 rows x 27 columns]"
      ]
     },
     "execution_count": 50,
     "metadata": {},
     "output_type": "execute_result"
    }
   ],
   "source": [
    "X_transformed = Transform.fit_transform(X)\n",
    "\n",
    "feature_names_manual = (\n",
    "    group1 +\n",
    "    list(Transform.named_transformers_['g2'].get_feature_names_out(group2)) +\n",
    "    ['Vehicle Class', 'Coverage', 'Education'] +\n",
    "    ['log_Total_Claim_Amount']\n",
    ")\n",
    "\n",
    "X_transformed_df = pd.DataFrame(X_transformed, columns=feature_names_manual)\n",
    "\n",
    "X_transformed_df.head()"
   ]
  },
  {
   "cell_type": "code",
   "execution_count": 51,
   "metadata": {},
   "outputs": [
    {
     "data": {
      "text/html": [
       "<div>\n",
       "<style scoped>\n",
       "    .dataframe tbody tr th:only-of-type {\n",
       "        vertical-align: middle;\n",
       "    }\n",
       "\n",
       "    .dataframe tbody tr th {\n",
       "        vertical-align: top;\n",
       "    }\n",
       "\n",
       "    .dataframe thead th {\n",
       "        text-align: right;\n",
       "    }\n",
       "</style>\n",
       "<table border=\"1\" class=\"dataframe\">\n",
       "  <thead>\n",
       "    <tr style=\"text-align: right;\">\n",
       "      <th></th>\n",
       "      <th>Feature</th>\n",
       "      <th>Importance</th>\n",
       "    </tr>\n",
       "  </thead>\n",
       "  <tbody>\n",
       "    <tr>\n",
       "      <th>15</th>\n",
       "      <td>Number of Policies_2.0</td>\n",
       "      <td>0.739967</td>\n",
       "    </tr>\n",
       "    <tr>\n",
       "      <th>14</th>\n",
       "      <td>Number of Policies_1.0</td>\n",
       "      <td>0.142541</td>\n",
       "    </tr>\n",
       "    <tr>\n",
       "      <th>23</th>\n",
       "      <td>Vehicle Class</td>\n",
       "      <td>0.036747</td>\n",
       "    </tr>\n",
       "    <tr>\n",
       "      <th>0</th>\n",
       "      <td>Monthly Premium Auto</td>\n",
       "      <td>0.015296</td>\n",
       "    </tr>\n",
       "    <tr>\n",
       "      <th>16</th>\n",
       "      <td>Number of Policies_3.0</td>\n",
       "      <td>0.011172</td>\n",
       "    </tr>\n",
       "    <tr>\n",
       "      <th>12</th>\n",
       "      <td>Marital Status_Married</td>\n",
       "      <td>0.008382</td>\n",
       "    </tr>\n",
       "    <tr>\n",
       "      <th>26</th>\n",
       "      <td>log_Total_Claim_Amount</td>\n",
       "      <td>0.006510</td>\n",
       "    </tr>\n",
       "    <tr>\n",
       "      <th>3</th>\n",
       "      <td>Renew Offer Type_Offer2</td>\n",
       "      <td>0.005672</td>\n",
       "    </tr>\n",
       "    <tr>\n",
       "      <th>25</th>\n",
       "      <td>Education</td>\n",
       "      <td>0.005368</td>\n",
       "    </tr>\n",
       "    <tr>\n",
       "      <th>5</th>\n",
       "      <td>Renew Offer Type_Offer4</td>\n",
       "      <td>0.004794</td>\n",
       "    </tr>\n",
       "    <tr>\n",
       "      <th>11</th>\n",
       "      <td>Marital Status_Divorced</td>\n",
       "      <td>0.003837</td>\n",
       "    </tr>\n",
       "    <tr>\n",
       "      <th>2</th>\n",
       "      <td>Renew Offer Type_Offer1</td>\n",
       "      <td>0.002734</td>\n",
       "    </tr>\n",
       "    <tr>\n",
       "      <th>8</th>\n",
       "      <td>EmploymentStatus_Medical Leave</td>\n",
       "      <td>0.002453</td>\n",
       "    </tr>\n",
       "    <tr>\n",
       "      <th>24</th>\n",
       "      <td>Coverage</td>\n",
       "      <td>0.002392</td>\n",
       "    </tr>\n",
       "    <tr>\n",
       "      <th>4</th>\n",
       "      <td>Renew Offer Type_Offer3</td>\n",
       "      <td>0.002218</td>\n",
       "    </tr>\n",
       "    <tr>\n",
       "      <th>1</th>\n",
       "      <td>Income</td>\n",
       "      <td>0.002077</td>\n",
       "    </tr>\n",
       "    <tr>\n",
       "      <th>13</th>\n",
       "      <td>Marital Status_Single</td>\n",
       "      <td>0.001829</td>\n",
       "    </tr>\n",
       "    <tr>\n",
       "      <th>22</th>\n",
       "      <td>Number of Policies_9.0</td>\n",
       "      <td>0.001715</td>\n",
       "    </tr>\n",
       "    <tr>\n",
       "      <th>9</th>\n",
       "      <td>EmploymentStatus_Retired</td>\n",
       "      <td>0.001516</td>\n",
       "    </tr>\n",
       "    <tr>\n",
       "      <th>6</th>\n",
       "      <td>EmploymentStatus_Disabled</td>\n",
       "      <td>0.001350</td>\n",
       "    </tr>\n",
       "    <tr>\n",
       "      <th>7</th>\n",
       "      <td>EmploymentStatus_Employed</td>\n",
       "      <td>0.000656</td>\n",
       "    </tr>\n",
       "    <tr>\n",
       "      <th>10</th>\n",
       "      <td>EmploymentStatus_Unemployed</td>\n",
       "      <td>0.000615</td>\n",
       "    </tr>\n",
       "    <tr>\n",
       "      <th>21</th>\n",
       "      <td>Number of Policies_8.0</td>\n",
       "      <td>0.000157</td>\n",
       "    </tr>\n",
       "    <tr>\n",
       "      <th>20</th>\n",
       "      <td>Number of Policies_7.0</td>\n",
       "      <td>0.000000</td>\n",
       "    </tr>\n",
       "    <tr>\n",
       "      <th>19</th>\n",
       "      <td>Number of Policies_6.0</td>\n",
       "      <td>0.000000</td>\n",
       "    </tr>\n",
       "    <tr>\n",
       "      <th>18</th>\n",
       "      <td>Number of Policies_5.0</td>\n",
       "      <td>0.000000</td>\n",
       "    </tr>\n",
       "    <tr>\n",
       "      <th>17</th>\n",
       "      <td>Number of Policies_4.0</td>\n",
       "      <td>0.000000</td>\n",
       "    </tr>\n",
       "  </tbody>\n",
       "</table>\n",
       "</div>"
      ],
      "text/plain": [
       "                           Feature  Importance\n",
       "15          Number of Policies_2.0    0.739967\n",
       "14          Number of Policies_1.0    0.142541\n",
       "23                   Vehicle Class    0.036747\n",
       "0             Monthly Premium Auto    0.015296\n",
       "16          Number of Policies_3.0    0.011172\n",
       "12          Marital Status_Married    0.008382\n",
       "26          log_Total_Claim_Amount    0.006510\n",
       "3          Renew Offer Type_Offer2    0.005672\n",
       "25                       Education    0.005368\n",
       "5          Renew Offer Type_Offer4    0.004794\n",
       "11         Marital Status_Divorced    0.003837\n",
       "2          Renew Offer Type_Offer1    0.002734\n",
       "8   EmploymentStatus_Medical Leave    0.002453\n",
       "24                        Coverage    0.002392\n",
       "4          Renew Offer Type_Offer3    0.002218\n",
       "1                           Income    0.002077\n",
       "13           Marital Status_Single    0.001829\n",
       "22          Number of Policies_9.0    0.001715\n",
       "9         EmploymentStatus_Retired    0.001516\n",
       "6        EmploymentStatus_Disabled    0.001350\n",
       "7        EmploymentStatus_Employed    0.000656\n",
       "10     EmploymentStatus_Unemployed    0.000615\n",
       "21          Number of Policies_8.0    0.000157\n",
       "20          Number of Policies_7.0    0.000000\n",
       "19          Number of Policies_6.0    0.000000\n",
       "18          Number of Policies_5.0    0.000000\n",
       "17          Number of Policies_4.0    0.000000"
      ]
     },
     "execution_count": 51,
     "metadata": {},
     "output_type": "execute_result"
    }
   ],
   "source": [
    "xgbr.fit(X_transformed_df, y)\n",
    "\n",
    "# Ambil feature importance\n",
    "importance = xgbr.feature_importances_\n",
    "\n",
    "feature_importance_df = pd.DataFrame({\n",
    "    'Feature': feature_names_manual,\n",
    "    'Importance': importance\n",
    "}).sort_values(by='Importance', ascending=False)\n",
    "\n",
    "feature_importance_df"
   ]
  },
  {
   "cell_type": "markdown",
   "metadata": {},
   "source": [
    "Dari 'Feature importance' ini, salah satu fitur yang paling berpengaruh adalah fitur 'Number of Policies'. Selanjutnya, kita akan mencoba untuk menganalisis fitur ini lebih lanjut untuk melihat patternya."
   ]
  },
  {
   "cell_type": "code",
   "execution_count": 52,
   "metadata": {},
   "outputs": [
    {
     "data": {
      "image/png": "[encoded data removed]",
      "text/plain": [
       "<Figure size 432x288 with 1 Axes>"
      ]
     },
     "metadata": {
      "needs_background": "light"
     },
     "output_type": "display_data"
    }
   ],
   "source": [
    "sns.boxplot(x='Number of Policies', y='Customer Lifetime Value', data=df)\n",
    "plt.title(\"CLV Distribution by Number of Policies\")\n",
    "plt.show()"
   ]
  },
  {
   "cell_type": "code",
   "execution_count": 53,
   "metadata": {},
   "outputs": [
    {
     "data": {
      "image/png": "[encoded data removed]",
      "text/plain": [
       "<Figure size 360x360 with 1 Axes>"
      ]
     },
     "metadata": {
      "needs_background": "light"
     },
     "output_type": "display_data"
    }
   ],
   "source": [
    "sns.lmplot(x='Number of Policies', y='Customer Lifetime Value', data=df, lowess=True)\n",
    "plt.title(\"Relationship Between Number of Policies and CLV\")\n",
    "plt.show()"
   ]
  },
  {
   "cell_type": "code",
   "execution_count": 54,
   "metadata": {},
   "outputs": [
    {
     "data": {
      "text/html": [
       "<div>\n",
       "<style scoped>\n",
       "    .dataframe tbody tr th:only-of-type {\n",
       "        vertical-align: middle;\n",
       "    }\n",
       "\n",
       "    .dataframe tbody tr th {\n",
       "        vertical-align: top;\n",
       "    }\n",
       "\n",
       "    .dataframe thead th {\n",
       "        text-align: right;\n",
       "    }\n",
       "</style>\n",
       "<table border=\"1\" class=\"dataframe\">\n",
       "  <thead>\n",
       "    <tr style=\"text-align: right;\">\n",
       "      <th></th>\n",
       "      <th>Number of Policies</th>\n",
       "      <th>Customer Lifetime Value</th>\n",
       "    </tr>\n",
       "  </thead>\n",
       "  <tbody>\n",
       "    <tr>\n",
       "      <th>0</th>\n",
       "      <td>1.0</td>\n",
       "      <td>3536.382844</td>\n",
       "    </tr>\n",
       "    <tr>\n",
       "      <th>1</th>\n",
       "      <td>2.0</td>\n",
       "      <td>15848.416574</td>\n",
       "    </tr>\n",
       "    <tr>\n",
       "      <th>2</th>\n",
       "      <td>3.0</td>\n",
       "      <td>7113.751720</td>\n",
       "    </tr>\n",
       "    <tr>\n",
       "      <th>3</th>\n",
       "      <td>4.0</td>\n",
       "      <td>7179.090222</td>\n",
       "    </tr>\n",
       "    <tr>\n",
       "      <th>4</th>\n",
       "      <td>5.0</td>\n",
       "      <td>7275.069902</td>\n",
       "    </tr>\n",
       "    <tr>\n",
       "      <th>5</th>\n",
       "      <td>6.0</td>\n",
       "      <td>7069.262143</td>\n",
       "    </tr>\n",
       "    <tr>\n",
       "      <th>6</th>\n",
       "      <td>7.0</td>\n",
       "      <td>7216.528482</td>\n",
       "    </tr>\n",
       "    <tr>\n",
       "      <th>7</th>\n",
       "      <td>8.0</td>\n",
       "      <td>7101.304723</td>\n",
       "    </tr>\n",
       "    <tr>\n",
       "      <th>8</th>\n",
       "      <td>9.0</td>\n",
       "      <td>7164.242784</td>\n",
       "    </tr>\n",
       "  </tbody>\n",
       "</table>\n",
       "</div>"
      ],
      "text/plain": [
       "   Number of Policies  Customer Lifetime Value\n",
       "0                 1.0              3536.382844\n",
       "1                 2.0             15848.416574\n",
       "2                 3.0              7113.751720\n",
       "3                 4.0              7179.090222\n",
       "4                 5.0              7275.069902\n",
       "5                 6.0              7069.262143\n",
       "6                 7.0              7216.528482\n",
       "7                 8.0              7101.304723\n",
       "8                 9.0              7164.242784"
      ]
     },
     "execution_count": 54,
     "metadata": {},
     "output_type": "execute_result"
    }
   ],
   "source": [
    "#Mean\n",
    "df.groupby('Number of Policies')['Customer Lifetime Value'].mean().reset_index()"
   ]
  },
  {
   "cell_type": "code",
   "execution_count": 55,
   "metadata": {},
   "outputs": [
    {
     "data": {
      "text/html": [
       "<div>\n",
       "<style scoped>\n",
       "    .dataframe tbody tr th:only-of-type {\n",
       "        vertical-align: middle;\n",
       "    }\n",
       "\n",
       "    .dataframe tbody tr th {\n",
       "        vertical-align: top;\n",
       "    }\n",
       "\n",
       "    .dataframe thead th {\n",
       "        text-align: right;\n",
       "    }\n",
       "</style>\n",
       "<table border=\"1\" class=\"dataframe\">\n",
       "  <thead>\n",
       "    <tr style=\"text-align: right;\">\n",
       "      <th></th>\n",
       "      <th>Number of Policies</th>\n",
       "      <th>Customer Lifetime Value</th>\n",
       "    </tr>\n",
       "  </thead>\n",
       "  <tbody>\n",
       "    <tr>\n",
       "      <th>0</th>\n",
       "      <td>1.0</td>\n",
       "      <td>3059.182181</td>\n",
       "    </tr>\n",
       "    <tr>\n",
       "      <th>1</th>\n",
       "      <td>2.0</td>\n",
       "      <td>12986.902435</td>\n",
       "    </tr>\n",
       "    <tr>\n",
       "      <th>2</th>\n",
       "      <td>3.0</td>\n",
       "      <td>6347.497519</td>\n",
       "    </tr>\n",
       "    <tr>\n",
       "      <th>3</th>\n",
       "      <td>4.0</td>\n",
       "      <td>6333.030812</td>\n",
       "    </tr>\n",
       "    <tr>\n",
       "      <th>4</th>\n",
       "      <td>5.0</td>\n",
       "      <td>6063.392804</td>\n",
       "    </tr>\n",
       "    <tr>\n",
       "      <th>5</th>\n",
       "      <td>6.0</td>\n",
       "      <td>6282.750917</td>\n",
       "    </tr>\n",
       "    <tr>\n",
       "      <th>6</th>\n",
       "      <td>7.0</td>\n",
       "      <td>6418.248710</td>\n",
       "    </tr>\n",
       "    <tr>\n",
       "      <th>7</th>\n",
       "      <td>8.0</td>\n",
       "      <td>6042.911900</td>\n",
       "    </tr>\n",
       "    <tr>\n",
       "      <th>8</th>\n",
       "      <td>9.0</td>\n",
       "      <td>6225.781965</td>\n",
       "    </tr>\n",
       "  </tbody>\n",
       "</table>\n",
       "</div>"
      ],
      "text/plain": [
       "   Number of Policies  Customer Lifetime Value\n",
       "0                 1.0              3059.182181\n",
       "1                 2.0             12986.902435\n",
       "2                 3.0              6347.497519\n",
       "3                 4.0              6333.030812\n",
       "4                 5.0              6063.392804\n",
       "5                 6.0              6282.750917\n",
       "6                 7.0              6418.248710\n",
       "7                 8.0              6042.911900\n",
       "8                 9.0              6225.781965"
      ]
     },
     "execution_count": 55,
     "metadata": {},
     "output_type": "execute_result"
    }
   ],
   "source": [
    "#Median\n",
    "df.groupby('Number of Policies')['Customer Lifetime Value'].median().reset_index()"
   ]
  },
  {
   "cell_type": "markdown",
   "metadata": {},
   "source": [
    "Berdasarkan informasi sebelumnya, bahwa korelasi fitur 'Number of Policies' dengan target CLV adalah 0.49. Lalu, dari pattern distribusi untuk setiap kategori pada fiturnya dan dari median serta mean masing masing kategori, kita dapat mencoba untuk mengelompokkan menjadi 3 kategori.\n",
    "\n",
    "Kategori 1 saat nilai Number of Policies = 2\n",
    "\n",
    "Kategori 2 saat nilai Number of Policies selain 1 dan 2 \n",
    "\n",
    "Kategori 3 saat nilai Number of Policies = 1\n",
    "\n",
    "Kemudian, dari kategori tsb. kita dapat membuatnya menjadi fitur dengan tipe data ordinal."
   ]
  },
  {
   "cell_type": "code",
   "execution_count": 56,
   "metadata": {},
   "outputs": [],
   "source": [
    "#Fungsi transform Number of Policies\n",
    "def transform_number_of_policies(df_):\n",
    "    df_ = df_.copy()\n",
    "    df_['Number of Policies'] = df_['Number of Policies'].replace({\n",
    "        1. : 1.,\n",
    "        2. : 3.,\n",
    "        3. : 2.,\n",
    "        4. : 2.,\n",
    "        5. : 2.,\n",
    "        6. : 2.,\n",
    "        7. : 2.,\n",
    "        8. : 2.,\n",
    "        9. : 2.\n",
    "    })\n",
    "    return df_"
   ]
  },
  {
   "cell_type": "code",
   "execution_count": 57,
   "metadata": {},
   "outputs": [
    {
     "data": {
      "text/plain": [
       "array([3., 2., 1.])"
      ]
     },
     "execution_count": 57,
     "metadata": {},
     "output_type": "execute_result"
    }
   ],
   "source": [
    "test_nop=transform_number_of_policies(df)\n",
    "test_nop['Number of Policies'].unique()"
   ]
  },
  {
   "cell_type": "markdown",
   "metadata": {},
   "source": [
    "Selanjutnya, untuk fitur lainnya tetap dan tidak diubah, sesuai dengan hasil analisis pada model prediksi awal, karena perubahan terhadap fitur-fitur tersebut tidak meningkatkan performa model secara signifikan (*berdasarkan hasil uji coba trial and error yang telah dilakukan). Namun, untuk lebih meningkatkan kualitas hasil prediksi sebelum melakukan hyperparameter tuning pada model XGB Regressor, diperlukan langkah tambahan yang dapat memperbaiki performa model secara efektif. Salah satu teknik yang dapat dilakukan adalah winsorizing, yang meskipun efektif, tetap memerlukan kehati-hatian dalam interpretasi hasilnya.\n",
    "\n",
    "Teknik winsorizing dipilih karena data target ('Customer Lifetime Value') memiliki distribusi yang sangat skewed (ekstrim ke kanan). Ketidakseimbangan distribusi ini dapat menyebabkan model lebih sulit untuk menangkap pola dengan baik, terutama untuk nilai-nilai ekstrem yang jarang. Dengan melakukan winsorizing ke atas, nilai di atas quantile tertentu (misalnya, quantile ke-98) disesuaikan menjadi setara dengan nilai pada quantile tersebut. Pendekatan ini membantu menjaga distribusi data tetap utuh tanpa menghilangkan terlalu banyak informasi, sekaligus mengurangi pengaruh nilai-nilai ekstrem terhadap model.\n",
    "\n",
    "Dalam hal ini, dipilih nilai pada quantile ke-98 untuk memastikan bahwa sebagian besar informasi tetap dipertahankan sambil meminimalkan efek dari outliers. Langkah ini juga sejalan dengan prinsip robust modeling, yaitu memastikan model dapat menangkap pola utama tanpa terganggu oleh data yang tidak representatif atau terlalu ekstrem. Dengan demikian, hasil prediksi yang dihasilkan diharapkan menjadi lebih stabil dan akurat pada saat hyperparameter tuning dilakukan."
   ]
  },
  {
   "cell_type": "code",
   "execution_count": 58,
   "metadata": {},
   "outputs": [
    {
     "data": {
      "text/plain": [
       "29874.74493"
      ]
     },
     "execution_count": 58,
     "metadata": {},
     "output_type": "execute_result"
    }
   ],
   "source": [
    "upper_limit_clv =  df['Customer Lifetime Value'].quantile(0.98)\n",
    "df['CLV Winsorized'] = df['Customer Lifetime Value'].clip(upper=upper_limit_clv)\n",
    "df['CLV Winsorized'].max()"
   ]
  },
  {
   "cell_type": "code",
   "execution_count": 59,
   "metadata": {},
   "outputs": [],
   "source": [
    "#mengganti nilai y ke CLV winsorized\n",
    "y_new = df['CLV Winsorized']"
   ]
  },
  {
   "cell_type": "code",
   "execution_count": 60,
   "metadata": {},
   "outputs": [],
   "source": [
    "#New Pipeline\n",
    "transformer1 = Pipeline(steps=[\n",
    "    ('robust', RobustScaler()),\n",
    "    ('minmax', MinMaxScaler())\n",
    "])\n",
    "\n",
    "transformer2 = Pipeline(steps=[\n",
    "    ('onehot',OneHotEncoder(handle_unknown='ignore'))\n",
    "])\n",
    "\n",
    "transformer3 = Pipeline(steps=[\n",
    "    ('ordinal', OrdinalEncoder(categories=[vehicle_order, coverage_order,education_order])),\n",
    "    ('minmax', MinMaxScaler())\n",
    "])\n",
    "\n",
    "transformer4 = Pipeline(steps=[\n",
    "    ('log_transform', FunctionTransformer(func=np.cbrt,feature_names_out='one-to-one')),\n",
    "    ('robust', RobustScaler()),\n",
    "    ('minmax', MinMaxScaler())\n",
    "])\n",
    "\n",
    "transformer5 = Pipeline(steps=[\n",
    "    ('group_numberofpolices', FunctionTransformer(transform_number_of_policies)),\n",
    "    ('minmax', MinMaxScaler())\n",
    "])\n",
    "\n",
    "Transform_new = ColumnTransformer([\n",
    "    ('g1', transformer1, group1),\n",
    "    ('g2', transformer2, group2[:-1]),\n",
    "    ('g3', transformer3, group3),\n",
    "    ('g4', transformer4, ['Total Claim Amount']),\n",
    "    ('g5', transformer5, ['Number of Policies'])\n",
    "], remainder = 'passthrough')"
   ]
  },
  {
   "cell_type": "code",
   "execution_count": 61,
   "metadata": {},
   "outputs": [],
   "source": [
    "pipeline_new = Pipeline(steps=[\n",
    "    ('transformer', Transform_new),\n",
    "    ('model', xgbr)\n",
    "])"
   ]
  },
  {
   "cell_type": "code",
   "execution_count": 62,
   "metadata": {},
   "outputs": [
    {
     "data": {
      "text/html": [
       "<div>\n",
       "<style scoped>\n",
       "    .dataframe tbody tr th:only-of-type {\n",
       "        vertical-align: middle;\n",
       "    }\n",
       "\n",
       "    .dataframe tbody tr th {\n",
       "        vertical-align: top;\n",
       "    }\n",
       "\n",
       "    .dataframe thead th {\n",
       "        text-align: right;\n",
       "    }\n",
       "</style>\n",
       "<table border=\"1\" class=\"dataframe\">\n",
       "  <thead>\n",
       "    <tr style=\"text-align: right;\">\n",
       "      <th></th>\n",
       "      <th>Monthly Premium Auto</th>\n",
       "      <th>Income</th>\n",
       "      <th>Renew Offer Type_Offer1</th>\n",
       "      <th>Renew Offer Type_Offer2</th>\n",
       "      <th>Renew Offer Type_Offer3</th>\n",
       "      <th>Renew Offer Type_Offer4</th>\n",
       "      <th>EmploymentStatus_Disabled</th>\n",
       "      <th>EmploymentStatus_Employed</th>\n",
       "      <th>EmploymentStatus_Medical Leave</th>\n",
       "      <th>EmploymentStatus_Retired</th>\n",
       "      <th>EmploymentStatus_Unemployed</th>\n",
       "      <th>Marital Status_Divorced</th>\n",
       "      <th>Marital Status_Married</th>\n",
       "      <th>Marital Status_Single</th>\n",
       "      <th>Vehicle Class</th>\n",
       "      <th>Coverage</th>\n",
       "      <th>Education</th>\n",
       "      <th>log_Total_Claim_Amount</th>\n",
       "      <th>Number of Policies</th>\n",
       "    </tr>\n",
       "  </thead>\n",
       "  <tbody>\n",
       "    <tr>\n",
       "      <th>0</th>\n",
       "      <td>0.122881</td>\n",
       "      <td>0.118358</td>\n",
       "      <td>1.0</td>\n",
       "      <td>0.0</td>\n",
       "      <td>0.0</td>\n",
       "      <td>0.0</td>\n",
       "      <td>0.0</td>\n",
       "      <td>0.0</td>\n",
       "      <td>0.0</td>\n",
       "      <td>1.0</td>\n",
       "      <td>0.0</td>\n",
       "      <td>1.0</td>\n",
       "      <td>0.0</td>\n",
       "      <td>0.0</td>\n",
       "      <td>0.2</td>\n",
       "      <td>0.5</td>\n",
       "      <td>0.00</td>\n",
       "      <td>0.568521</td>\n",
       "      <td>1.0</td>\n",
       "    </tr>\n",
       "    <tr>\n",
       "      <th>1</th>\n",
       "      <td>0.004237</td>\n",
       "      <td>0.447916</td>\n",
       "      <td>1.0</td>\n",
       "      <td>0.0</td>\n",
       "      <td>0.0</td>\n",
       "      <td>0.0</td>\n",
       "      <td>0.0</td>\n",
       "      <td>1.0</td>\n",
       "      <td>0.0</td>\n",
       "      <td>0.0</td>\n",
       "      <td>0.0</td>\n",
       "      <td>0.0</td>\n",
       "      <td>1.0</td>\n",
       "      <td>0.0</td>\n",
       "      <td>0.2</td>\n",
       "      <td>0.0</td>\n",
       "      <td>0.25</td>\n",
       "      <td>0.309224</td>\n",
       "      <td>0.5</td>\n",
       "    </tr>\n",
       "    <tr>\n",
       "      <th>2</th>\n",
       "      <td>0.004237</td>\n",
       "      <td>0.215282</td>\n",
       "      <td>1.0</td>\n",
       "      <td>0.0</td>\n",
       "      <td>0.0</td>\n",
       "      <td>0.0</td>\n",
       "      <td>0.0</td>\n",
       "      <td>0.0</td>\n",
       "      <td>0.0</td>\n",
       "      <td>1.0</td>\n",
       "      <td>0.0</td>\n",
       "      <td>0.0</td>\n",
       "      <td>1.0</td>\n",
       "      <td>0.0</td>\n",
       "      <td>0.0</td>\n",
       "      <td>0.0</td>\n",
       "      <td>0.75</td>\n",
       "      <td>0.422498</td>\n",
       "      <td>1.0</td>\n",
       "    </tr>\n",
       "    <tr>\n",
       "      <th>3</th>\n",
       "      <td>0.233051</td>\n",
       "      <td>0.179248</td>\n",
       "      <td>0.0</td>\n",
       "      <td>0.0</td>\n",
       "      <td>1.0</td>\n",
       "      <td>0.0</td>\n",
       "      <td>1.0</td>\n",
       "      <td>0.0</td>\n",
       "      <td>0.0</td>\n",
       "      <td>0.0</td>\n",
       "      <td>0.0</td>\n",
       "      <td>0.0</td>\n",
       "      <td>1.0</td>\n",
       "      <td>0.0</td>\n",
       "      <td>0.2</td>\n",
       "      <td>1.0</td>\n",
       "      <td>0.00</td>\n",
       "      <td>0.563122</td>\n",
       "      <td>0.0</td>\n",
       "    </tr>\n",
       "    <tr>\n",
       "      <th>4</th>\n",
       "      <td>0.004237</td>\n",
       "      <td>0.190426</td>\n",
       "      <td>0.0</td>\n",
       "      <td>0.0</td>\n",
       "      <td>1.0</td>\n",
       "      <td>0.0</td>\n",
       "      <td>0.0</td>\n",
       "      <td>0.0</td>\n",
       "      <td>1.0</td>\n",
       "      <td>0.0</td>\n",
       "      <td>0.0</td>\n",
       "      <td>0.0</td>\n",
       "      <td>1.0</td>\n",
       "      <td>0.0</td>\n",
       "      <td>0.0</td>\n",
       "      <td>0.0</td>\n",
       "      <td>0.00</td>\n",
       "      <td>0.477201</td>\n",
       "      <td>0.0</td>\n",
       "    </tr>\n",
       "  </tbody>\n",
       "</table>\n",
       "</div>"
      ],
      "text/plain": [
       "   Monthly Premium Auto    Income  Renew Offer Type_Offer1  \\\n",
       "0              0.122881  0.118358                      1.0   \n",
       "1              0.004237  0.447916                      1.0   \n",
       "2              0.004237  0.215282                      1.0   \n",
       "3              0.233051  0.179248                      0.0   \n",
       "4              0.004237  0.190426                      0.0   \n",
       "\n",
       "   Renew Offer Type_Offer2  Renew Offer Type_Offer3  Renew Offer Type_Offer4  \\\n",
       "0                      0.0                      0.0                      0.0   \n",
       "1                      0.0                      0.0                      0.0   \n",
       "2                      0.0                      0.0                      0.0   \n",
       "3                      0.0                      1.0                      0.0   \n",
       "4                      0.0                      1.0                      0.0   \n",
       "\n",
       "   EmploymentStatus_Disabled  EmploymentStatus_Employed  \\\n",
       "0                        0.0                        0.0   \n",
       "1                        0.0                        1.0   \n",
       "2                        0.0                        0.0   \n",
       "3                        1.0                        0.0   \n",
       "4                        0.0                        0.0   \n",
       "\n",
       "   EmploymentStatus_Medical Leave  EmploymentStatus_Retired  \\\n",
       "0                             0.0                       1.0   \n",
       "1                             0.0                       0.0   \n",
       "2                             0.0                       1.0   \n",
       "3                             0.0                       0.0   \n",
       "4                             1.0                       0.0   \n",
       "\n",
       "   EmploymentStatus_Unemployed  Marital Status_Divorced  \\\n",
       "0                          0.0                      1.0   \n",
       "1                          0.0                      0.0   \n",
       "2                          0.0                      0.0   \n",
       "3                          0.0                      0.0   \n",
       "4                          0.0                      0.0   \n",
       "\n",
       "   Marital Status_Married  Marital Status_Single  Vehicle Class  Coverage  \\\n",
       "0                     0.0                    0.0            0.2       0.5   \n",
       "1                     1.0                    0.0            0.2       0.0   \n",
       "2                     1.0                    0.0            0.0       0.0   \n",
       "3                     1.0                    0.0            0.2       1.0   \n",
       "4                     1.0                    0.0            0.0       0.0   \n",
       "\n",
       "   Education  log_Total_Claim_Amount  Number of Policies  \n",
       "0       0.00                0.568521                 1.0  \n",
       "1       0.25                0.309224                 0.5  \n",
       "2       0.75                0.422498                 1.0  \n",
       "3       0.00                0.563122                 0.0  \n",
       "4       0.00                0.477201                 0.0  "
      ]
     },
     "execution_count": 62,
     "metadata": {},
     "output_type": "execute_result"
    }
   ],
   "source": [
    "X_transformed = Transform_new.fit_transform(X)\n",
    "\n",
    "feature_names_manual = (\n",
    "    group1 +\n",
    "    list(Transform_new.named_transformers_['g2'].get_feature_names_out(group2[:-1])) +\n",
    "    ['Vehicle Class', 'Coverage', 'Education'] +\n",
    "    ['log_Total_Claim_Amount']+['Number of Policies']\n",
    ")\n",
    "\n",
    "X_transformed_df_new = pd.DataFrame(X_transformed, columns=feature_names_manual)\n",
    "\n",
    "X_transformed_df_new.head()"
   ]
  },
  {
   "cell_type": "markdown",
   "metadata": {},
   "source": [
    "**Hyperparameter Tuning**"
   ]
  },
  {
   "cell_type": "markdown",
   "metadata": {},
   "source": [
    "Pada tahap ini, kita akan menggunakan Optuna untuk melakukan tuning hyperparameter pada model XGB Regressor. Hyperparameter yang akan dioptimalkan mencakup n_estimators, max_depth, learning_rate, dan parameter lainnya yang relevan. Proses ini bertujuan untuk menemukan kombinasi hyperparameter yang menghasilkan performa terbaik. Hasil optimal yang diperoleh nantinya akan digunakan dalam pipeline model untuk prediksi akhir."
   ]
  },
  {
   "cell_type": "code",
   "execution_count": 63,
   "metadata": {},
   "outputs": [
    {
     "name": "stdout",
     "output_type": "stream",
     "text": [
      "Done\n"
     ]
    }
   ],
   "source": [
    "def objective(trial):\n",
    "    # Set hyperparameter yang akan dioptimalkan\n",
    "    params = {\n",
    "        'n_estimators': trial.suggest_int('n_estimators', 50, 500),\n",
    "        'max_depth': trial.suggest_int('max_depth', 3, 10),\n",
    "        'learning_rate': trial.suggest_float('learning_rate', 0.01, 0.3),\n",
    "        'subsample': trial.suggest_float('subsample', 0.5, 1.0),\n",
    "        'colsample_bytree': trial.suggest_float('colsample_bytree', 0.5, 1.0),\n",
    "        'reg_alpha': trial.suggest_float('reg_alpha', 0.0, 10.0),\n",
    "        'reg_lambda': trial.suggest_float('reg_lambda', 0.0, 10.0)\n",
    "    }\n",
    "    \n",
    "    xgbr = xgb.XGBRegressor(**params, random_state=42)\n",
    "    pipeline_new = Pipeline(steps=[\n",
    "        ('transformer', Transform_new),\n",
    "        ('model', xgbr)\n",
    "    ])\n",
    "\n",
    "    score = cross_val_score(pipeline_new, X, y_new, cv=5, scoring='neg_mean_absolute_error')\n",
    "\n",
    "    return score.mean()\n",
    "\n",
    "# Nonaktifkan log detail Optuna\n",
    "optuna.logging.set_verbosity(optuna.logging.WARNING)\n",
    "\n",
    "study = optuna.create_study(direction='maximize')\n",
    "study.optimize(objective, n_trials=50)\n",
    "print(\"Done\")"
   ]
  },
  {
   "cell_type": "code",
   "execution_count": 64,
   "metadata": {},
   "outputs": [],
   "source": [
    "best_params = study.best_params\n",
    "final_model = xgb.XGBRegressor(**best_params, random_state=42)\n",
    "\n",
    "# Final Pipeline\n",
    "final_pipeline = Pipeline(steps=[\n",
    "    ('transformer', Transform_new),\n",
    "    ('model', final_model)\n",
    "])"
   ]
  },
  {
   "cell_type": "markdown",
   "metadata": {},
   "source": [
    "**Performance Comparison**\n",
    "\n",
    "Perbandingan performa model XGBoost sebelum dan sesudah dilakukan Feature Engineering (Number of Policies dan Target) serta hyperparameter tuning."
   ]
  },
  {
   "cell_type": "code",
   "execution_count": 65,
   "metadata": {},
   "outputs": [],
   "source": [
    "X_train, X_test, y_train, y_test = train_test_split(X,y,test_size=0.2, random_state=42) \n",
    "X_train_new, X_test_new, y_train_new, y_test_new = train_test_split(X,y_new,test_size=0.2, random_state=42)"
   ]
  },
  {
   "cell_type": "code",
   "execution_count": 66,
   "metadata": {},
   "outputs": [],
   "source": [
    "def eval_metric(y_test,y_pred):\n",
    "    r2 = round(r2_score(y_test, y_pred),2)\n",
    "    mae = round(mean_absolute_error(y_test, y_pred),2)\n",
    "    mse = round(mean_squared_error(y_test, y_pred),2)\n",
    "    rmse = round(mean_squared_error(y_test, y_pred, squared=False),2)\n",
    "    mape = round((abs((y_test - y_pred) / y_test).mean()),2)\n",
    "\n",
    "    metrics_df = pd.DataFrame({\n",
    "        \"Model\" : [\"XGB\"],\n",
    "        \"R2\" : [r2],\n",
    "        \"MSE\" : [mse],\n",
    "        \"RMSE\" : [rmse],\n",
    "        \"MAE\" : [mae],\n",
    "        \"MAPE\" : [mape]\n",
    "    })\n",
    "\n",
    "    return metrics_df\n"
   ]
  },
  {
   "cell_type": "code",
   "execution_count": 67,
   "metadata": {},
   "outputs": [],
   "source": [
    "#Before tunning and feature eng.\n",
    "pipeline.fit(X_train,y_train)\n",
    "y_pred = pipeline.predict(X_test)\n",
    "\n",
    "#After tunning and feature eng.\n",
    "final_pipeline.fit(X_train_new, y_train_new)\n",
    "y_pred_new = final_pipeline.predict(X_test_new)"
   ]
  },
  {
   "cell_type": "code",
   "execution_count": 68,
   "metadata": {},
   "outputs": [],
   "source": [
    "prediction_result = pd.DataFrame({\n",
    "    \"y_test\" : y_test_new,\n",
    "    \"y_pred\" : y_pred_new\n",
    "})"
   ]
  },
  {
   "cell_type": "markdown",
   "metadata": {},
   "source": [
    "**Result before tunning and feature engineering**"
   ]
  },
  {
   "cell_type": "code",
   "execution_count": 69,
   "metadata": {},
   "outputs": [
    {
     "data": {
      "text/html": [
       "<div>\n",
       "<style scoped>\n",
       "    .dataframe tbody tr th:only-of-type {\n",
       "        vertical-align: middle;\n",
       "    }\n",
       "\n",
       "    .dataframe tbody tr th {\n",
       "        vertical-align: top;\n",
       "    }\n",
       "\n",
       "    .dataframe thead th {\n",
       "        text-align: right;\n",
       "    }\n",
       "</style>\n",
       "<table border=\"1\" class=\"dataframe\">\n",
       "  <thead>\n",
       "    <tr style=\"text-align: right;\">\n",
       "      <th></th>\n",
       "      <th>Model</th>\n",
       "      <th>R2</th>\n",
       "      <th>MSE</th>\n",
       "      <th>RMSE</th>\n",
       "      <th>MAE</th>\n",
       "      <th>MAPE</th>\n",
       "    </tr>\n",
       "  </thead>\n",
       "  <tbody>\n",
       "    <tr>\n",
       "      <th>0</th>\n",
       "      <td>XGB</td>\n",
       "      <td>0.68</td>\n",
       "      <td>15138179.76</td>\n",
       "      <td>3890.78</td>\n",
       "      <td>1643.22</td>\n",
       "      <td>0.14</td>\n",
       "    </tr>\n",
       "  </tbody>\n",
       "</table>\n",
       "</div>"
      ],
      "text/plain": [
       "  Model    R2          MSE     RMSE      MAE  MAPE\n",
       "0   XGB  0.68  15138179.76  3890.78  1643.22  0.14"
      ]
     },
     "execution_count": 69,
     "metadata": {},
     "output_type": "execute_result"
    }
   ],
   "source": [
    "eval_metric(y_test,y_pred)"
   ]
  },
  {
   "cell_type": "markdown",
   "metadata": {},
   "source": [
    "**Result after tunning and feature engineering**"
   ]
  },
  {
   "cell_type": "code",
   "execution_count": 70,
   "metadata": {},
   "outputs": [
    {
     "data": {
      "text/html": [
       "<div>\n",
       "<style scoped>\n",
       "    .dataframe tbody tr th:only-of-type {\n",
       "        vertical-align: middle;\n",
       "    }\n",
       "\n",
       "    .dataframe tbody tr th {\n",
       "        vertical-align: top;\n",
       "    }\n",
       "\n",
       "    .dataframe thead th {\n",
       "        text-align: right;\n",
       "    }\n",
       "</style>\n",
       "<table border=\"1\" class=\"dataframe\">\n",
       "  <thead>\n",
       "    <tr style=\"text-align: right;\">\n",
       "      <th></th>\n",
       "      <th>Model</th>\n",
       "      <th>R2</th>\n",
       "      <th>MSE</th>\n",
       "      <th>RMSE</th>\n",
       "      <th>MAE</th>\n",
       "      <th>MAPE</th>\n",
       "    </tr>\n",
       "  </thead>\n",
       "  <tbody>\n",
       "    <tr>\n",
       "      <th>0</th>\n",
       "      <td>XGB</td>\n",
       "      <td>0.73</td>\n",
       "      <td>8902033.87</td>\n",
       "      <td>2983.63</td>\n",
       "      <td>1336.34</td>\n",
       "      <td>0.12</td>\n",
       "    </tr>\n",
       "  </tbody>\n",
       "</table>\n",
       "</div>"
      ],
      "text/plain": [
       "  Model    R2         MSE     RMSE      MAE  MAPE\n",
       "0   XGB  0.73  8902033.87  2983.63  1336.34  0.12"
      ]
     },
     "execution_count": 70,
     "metadata": {},
     "output_type": "execute_result"
    }
   ],
   "source": [
    "eval_metric(y_test_new,y_pred_new)"
   ]
  },
  {
   "cell_type": "markdown",
   "metadata": {},
   "source": [
    "Model mengalami peningkatan performa (nilai MSE, RMSE, MAE & MAPE berkurang sedangkan nilai R2 meningkat) dengan dilakukannya hyperparameter tuning dan feature engineering."
   ]
  },
  {
   "cell_type": "markdown",
   "metadata": {},
   "source": [
    "**Feature Importance**"
   ]
  },
  {
   "cell_type": "code",
   "execution_count": 71,
   "metadata": {},
   "outputs": [
    {
     "data": {
      "text/html": [
       "<div>\n",
       "<style scoped>\n",
       "    .dataframe tbody tr th:only-of-type {\n",
       "        vertical-align: middle;\n",
       "    }\n",
       "\n",
       "    .dataframe tbody tr th {\n",
       "        vertical-align: top;\n",
       "    }\n",
       "\n",
       "    .dataframe thead th {\n",
       "        text-align: right;\n",
       "    }\n",
       "</style>\n",
       "<table border=\"1\" class=\"dataframe\">\n",
       "  <thead>\n",
       "    <tr style=\"text-align: right;\">\n",
       "      <th></th>\n",
       "      <th>Feature</th>\n",
       "      <th>Importance</th>\n",
       "    </tr>\n",
       "  </thead>\n",
       "  <tbody>\n",
       "    <tr>\n",
       "      <th>18</th>\n",
       "      <td>Number of Policies</td>\n",
       "      <td>0.742198</td>\n",
       "    </tr>\n",
       "    <tr>\n",
       "      <th>0</th>\n",
       "      <td>Monthly Premium Auto</td>\n",
       "      <td>0.049773</td>\n",
       "    </tr>\n",
       "    <tr>\n",
       "      <th>14</th>\n",
       "      <td>Vehicle Class</td>\n",
       "      <td>0.048004</td>\n",
       "    </tr>\n",
       "    <tr>\n",
       "      <th>15</th>\n",
       "      <td>Coverage</td>\n",
       "      <td>0.016682</td>\n",
       "    </tr>\n",
       "    <tr>\n",
       "      <th>3</th>\n",
       "      <td>Renew Offer Type_Offer2</td>\n",
       "      <td>0.014948</td>\n",
       "    </tr>\n",
       "    <tr>\n",
       "      <th>17</th>\n",
       "      <td>log_Total_Claim_Amount</td>\n",
       "      <td>0.013833</td>\n",
       "    </tr>\n",
       "    <tr>\n",
       "      <th>5</th>\n",
       "      <td>Renew Offer Type_Offer4</td>\n",
       "      <td>0.013625</td>\n",
       "    </tr>\n",
       "    <tr>\n",
       "      <th>12</th>\n",
       "      <td>Marital Status_Married</td>\n",
       "      <td>0.012049</td>\n",
       "    </tr>\n",
       "    <tr>\n",
       "      <th>11</th>\n",
       "      <td>Marital Status_Divorced</td>\n",
       "      <td>0.011557</td>\n",
       "    </tr>\n",
       "    <tr>\n",
       "      <th>1</th>\n",
       "      <td>Income</td>\n",
       "      <td>0.011515</td>\n",
       "    </tr>\n",
       "    <tr>\n",
       "      <th>4</th>\n",
       "      <td>Renew Offer Type_Offer3</td>\n",
       "      <td>0.010531</td>\n",
       "    </tr>\n",
       "    <tr>\n",
       "      <th>16</th>\n",
       "      <td>Education</td>\n",
       "      <td>0.010335</td>\n",
       "    </tr>\n",
       "    <tr>\n",
       "      <th>8</th>\n",
       "      <td>EmploymentStatus_Medical Leave</td>\n",
       "      <td>0.008827</td>\n",
       "    </tr>\n",
       "    <tr>\n",
       "      <th>6</th>\n",
       "      <td>EmploymentStatus_Disabled</td>\n",
       "      <td>0.007483</td>\n",
       "    </tr>\n",
       "    <tr>\n",
       "      <th>13</th>\n",
       "      <td>Marital Status_Single</td>\n",
       "      <td>0.006704</td>\n",
       "    </tr>\n",
       "    <tr>\n",
       "      <th>2</th>\n",
       "      <td>Renew Offer Type_Offer1</td>\n",
       "      <td>0.006678</td>\n",
       "    </tr>\n",
       "    <tr>\n",
       "      <th>7</th>\n",
       "      <td>EmploymentStatus_Employed</td>\n",
       "      <td>0.006423</td>\n",
       "    </tr>\n",
       "    <tr>\n",
       "      <th>10</th>\n",
       "      <td>EmploymentStatus_Unemployed</td>\n",
       "      <td>0.004932</td>\n",
       "    </tr>\n",
       "    <tr>\n",
       "      <th>9</th>\n",
       "      <td>EmploymentStatus_Retired</td>\n",
       "      <td>0.003903</td>\n",
       "    </tr>\n",
       "  </tbody>\n",
       "</table>\n",
       "</div>"
      ],
      "text/plain": [
       "                           Feature  Importance\n",
       "18              Number of Policies    0.742198\n",
       "0             Monthly Premium Auto    0.049773\n",
       "14                   Vehicle Class    0.048004\n",
       "15                        Coverage    0.016682\n",
       "3          Renew Offer Type_Offer2    0.014948\n",
       "17          log_Total_Claim_Amount    0.013833\n",
       "5          Renew Offer Type_Offer4    0.013625\n",
       "12          Marital Status_Married    0.012049\n",
       "11         Marital Status_Divorced    0.011557\n",
       "1                           Income    0.011515\n",
       "4          Renew Offer Type_Offer3    0.010531\n",
       "16                       Education    0.010335\n",
       "8   EmploymentStatus_Medical Leave    0.008827\n",
       "6        EmploymentStatus_Disabled    0.007483\n",
       "13           Marital Status_Single    0.006704\n",
       "2          Renew Offer Type_Offer1    0.006678\n",
       "7        EmploymentStatus_Employed    0.006423\n",
       "10     EmploymentStatus_Unemployed    0.004932\n",
       "9         EmploymentStatus_Retired    0.003903"
      ]
     },
     "execution_count": 71,
     "metadata": {},
     "output_type": "execute_result"
    }
   ],
   "source": [
    "final_model.fit(X_transformed_df_new, y)\n",
    "\n",
    "# Ambil feature importance\n",
    "importance = final_model.feature_importances_\n",
    "\n",
    "feature_importance_df = pd.DataFrame({\n",
    "    'Feature': feature_names_manual,\n",
    "    'Importance': importance\n",
    "}).sort_values(by='Importance', ascending=False)\n",
    "\n",
    "feature_importance_df"
   ]
  },
  {
   "cell_type": "markdown",
   "metadata": {},
   "source": [
    "**Save Model**"
   ]
  },
  {
   "cell_type": "code",
   "execution_count": 72,
   "metadata": {},
   "outputs": [
    {
     "data": {
      "text/html": [
       "<style>#sk-container-id-1 {color: black;}#sk-container-id-1 pre{padding: 0;}#sk-container-id-1 div.sk-toggleable {background-color: white;}#sk-container-id-1 label.sk-toggleable__label {cursor: pointer;display: block;width: 100%;margin-bottom: 0;padding: 0.3em;box-sizing: border-box;text-align: center;}#sk-container-id-1 label.sk-toggleable__label-arrow:before {content: \"▸\";float: left;margin-right: 0.25em;color: #696969;}#sk-container-id-1 label.sk-toggleable__label-arrow:hover:before {color: black;}#sk-container-id-1 div.sk-estimator:hover label.sk-toggleable__label-arrow:before {color: black;}#sk-container-id-1 div.sk-toggleable__content {max-height: 0;max-width: 0;overflow: hidden;text-align: left;background-color: #f0f8ff;}#sk-container-id-1 div.sk-toggleable__content pre {margin: 0.2em;color: black;border-radius: 0.25em;background-color: #f0f8ff;}#sk-container-id-1 input.sk-toggleable__control:checked~div.sk-toggleable__content {max-height: 200px;max-width: 100%;overflow: auto;}#sk-container-id-1 input.sk-toggleable__control:checked~label.sk-toggleable__label-arrow:before {content: \"▾\";}#sk-container-id-1 div.sk-estimator input.sk-toggleable__control:checked~label.sk-toggleable__label {background-color: #d4ebff;}#sk-container-id-1 div.sk-label input.sk-toggleable__control:checked~label.sk-toggleable__label {background-color: #d4ebff;}#sk-container-id-1 input.sk-hidden--visually {border: 0;clip: rect(1px 1px 1px 1px);clip: rect(1px, 1px, 1px, 1px);height: 1px;margin: -1px;overflow: hidden;padding: 0;position: absolute;width: 1px;}#sk-container-id-1 div.sk-estimator {font-family: monospace;background-color: #f0f8ff;border: 1px dotted black;border-radius: 0.25em;box-sizing: border-box;margin-bottom: 0.5em;}#sk-container-id-1 div.sk-estimator:hover {background-color: #d4ebff;}#sk-container-id-1 div.sk-parallel-item::after {content: \"\";width: 100%;border-bottom: 1px solid gray;flex-grow: 1;}#sk-container-id-1 div.sk-label:hover label.sk-toggleable__label {background-color: #d4ebff;}#sk-container-id-1 div.sk-serial::before {content: \"\";position: absolute;border-left: 1px solid gray;box-sizing: border-box;top: 0;bottom: 0;left: 50%;z-index: 0;}#sk-container-id-1 div.sk-serial {display: flex;flex-direction: column;align-items: center;background-color: white;padding-right: 0.2em;padding-left: 0.2em;position: relative;}#sk-container-id-1 div.sk-item {position: relative;z-index: 1;}#sk-container-id-1 div.sk-parallel {display: flex;align-items: stretch;justify-content: center;background-color: white;position: relative;}#sk-container-id-1 div.sk-item::before, #sk-container-id-1 div.sk-parallel-item::before {content: \"\";position: absolute;border-left: 1px solid gray;box-sizing: border-box;top: 0;bottom: 0;left: 50%;z-index: -1;}#sk-container-id-1 div.sk-parallel-item {display: flex;flex-direction: column;z-index: 1;position: relative;background-color: white;}#sk-container-id-1 div.sk-parallel-item:first-child::after {align-self: flex-end;width: 50%;}#sk-container-id-1 div.sk-parallel-item:last-child::after {align-self: flex-start;width: 50%;}#sk-container-id-1 div.sk-parallel-item:only-child::after {width: 0;}#sk-container-id-1 div.sk-dashed-wrapped {border: 1px dashed gray;margin: 0 0.4em 0.5em 0.4em;box-sizing: border-box;padding-bottom: 0.4em;background-color: white;}#sk-container-id-1 div.sk-label label {font-family: monospace;font-weight: bold;display: inline-block;line-height: 1.2em;}#sk-container-id-1 div.sk-label-container {text-align: center;}#sk-container-id-1 div.sk-container {/* jupyter's `normalize.less` sets `[hidden] { display: none; }` but bootstrap.min.css set `[hidden] { display: none !important; }` so we also need the `!important` here to be able to override the default hidden behavior on the sphinx rendered scikit-learn.org. See: https://github.com/scikit-learn/scikit-learn/issues/21755 */display: inline-block !important;position: relative;}#sk-container-id-1 div.sk-text-repr-fallback {display: none;}</style><div id=\"sk-container-id-1\" class=\"sk-top-container\"><div class=\"sk-text-repr-fallback\"><pre>Pipeline(steps=[(&#x27;transformer&#x27;,\n",
       "                 ColumnTransformer(remainder=&#x27;passthrough&#x27;,\n",
       "                                   transformers=[(&#x27;g1&#x27;,\n",
       "                                                  Pipeline(steps=[(&#x27;robust&#x27;,\n",
       "                                                                   RobustScaler()),\n",
       "                                                                  (&#x27;minmax&#x27;,\n",
       "                                                                   MinMaxScaler())]),\n",
       "                                                  [&#x27;Monthly Premium Auto&#x27;,\n",
       "                                                   &#x27;Income&#x27;]),\n",
       "                                                 (&#x27;g2&#x27;,\n",
       "                                                  Pipeline(steps=[(&#x27;onehot&#x27;,\n",
       "                                                                   OneHotEncoder(handle_unknown=&#x27;ignore&#x27;))]),\n",
       "                                                  [&#x27;Renew Offer Type&#x27;,\n",
       "                                                   &#x27;EmploymentStatus&#x27;,\n",
       "                                                   &#x27;Marital Status&#x27;]),\n",
       "                                                 (&#x27;g3&#x27;,\n",
       "                                                  Pipeline(steps=[(&#x27;o...\n",
       "                              feature_types=None, gamma=None, grow_policy=None,\n",
       "                              importance_type=None,\n",
       "                              interaction_constraints=None,\n",
       "                              learning_rate=0.07512480451393796, max_bin=None,\n",
       "                              max_cat_threshold=None, max_cat_to_onehot=None,\n",
       "                              max_delta_step=None, max_depth=7, max_leaves=None,\n",
       "                              min_child_weight=None, missing=nan,\n",
       "                              monotone_constraints=None, multi_strategy=None,\n",
       "                              n_estimators=87, n_jobs=None,\n",
       "                              num_parallel_tree=None, random_state=42, ...))])</pre><b>In a Jupyter environment, please rerun this cell to show the HTML representation or trust the notebook. <br />On GitHub, the HTML representation is unable to render, please try loading this page with nbviewer.org.</b></div><div class=\"sk-container\" hidden><div class=\"sk-item sk-dashed-wrapped\"><div class=\"sk-label-container\"><div class=\"sk-label sk-toggleable\"><input class=\"sk-toggleable__control sk-hidden--visually\" id=\"sk-estimator-id-1\" type=\"checkbox\" ><label for=\"sk-estimator-id-1\" class=\"sk-toggleable__label sk-toggleable__label-arrow\">Pipeline</label><div class=\"sk-toggleable__content\"><pre>Pipeline(steps=[(&#x27;transformer&#x27;,\n",
       "                 ColumnTransformer(remainder=&#x27;passthrough&#x27;,\n",
       "                                   transformers=[(&#x27;g1&#x27;,\n",
       "                                                  Pipeline(steps=[(&#x27;robust&#x27;,\n",
       "                                                                   RobustScaler()),\n",
       "                                                                  (&#x27;minmax&#x27;,\n",
       "                                                                   MinMaxScaler())]),\n",
       "                                                  [&#x27;Monthly Premium Auto&#x27;,\n",
       "                                                   &#x27;Income&#x27;]),\n",
       "                                                 (&#x27;g2&#x27;,\n",
       "                                                  Pipeline(steps=[(&#x27;onehot&#x27;,\n",
       "                                                                   OneHotEncoder(handle_unknown=&#x27;ignore&#x27;))]),\n",
       "                                                  [&#x27;Renew Offer Type&#x27;,\n",
       "                                                   &#x27;EmploymentStatus&#x27;,\n",
       "                                                   &#x27;Marital Status&#x27;]),\n",
       "                                                 (&#x27;g3&#x27;,\n",
       "                                                  Pipeline(steps=[(&#x27;o...\n",
       "                              feature_types=None, gamma=None, grow_policy=None,\n",
       "                              importance_type=None,\n",
       "                              interaction_constraints=None,\n",
       "                              learning_rate=0.07512480451393796, max_bin=None,\n",
       "                              max_cat_threshold=None, max_cat_to_onehot=None,\n",
       "                              max_delta_step=None, max_depth=7, max_leaves=None,\n",
       "                              min_child_weight=None, missing=nan,\n",
       "                              monotone_constraints=None, multi_strategy=None,\n",
       "                              n_estimators=87, n_jobs=None,\n",
       "                              num_parallel_tree=None, random_state=42, ...))])</pre></div></div></div><div class=\"sk-serial\"><div class=\"sk-item sk-dashed-wrapped\"><div class=\"sk-label-container\"><div class=\"sk-label sk-toggleable\"><input class=\"sk-toggleable__control sk-hidden--visually\" id=\"sk-estimator-id-2\" type=\"checkbox\" ><label for=\"sk-estimator-id-2\" class=\"sk-toggleable__label sk-toggleable__label-arrow\">transformer: ColumnTransformer</label><div class=\"sk-toggleable__content\"><pre>ColumnTransformer(remainder=&#x27;passthrough&#x27;,\n",
       "                  transformers=[(&#x27;g1&#x27;,\n",
       "                                 Pipeline(steps=[(&#x27;robust&#x27;, RobustScaler()),\n",
       "                                                 (&#x27;minmax&#x27;, MinMaxScaler())]),\n",
       "                                 [&#x27;Monthly Premium Auto&#x27;, &#x27;Income&#x27;]),\n",
       "                                (&#x27;g2&#x27;,\n",
       "                                 Pipeline(steps=[(&#x27;onehot&#x27;,\n",
       "                                                  OneHotEncoder(handle_unknown=&#x27;ignore&#x27;))]),\n",
       "                                 [&#x27;Renew Offer Type&#x27;, &#x27;EmploymentStatus&#x27;,\n",
       "                                  &#x27;Marital Status&#x27;]),\n",
       "                                (&#x27;g3&#x27;,\n",
       "                                 Pipeline(steps=[(&#x27;ordinal&#x27;,\n",
       "                                                  OrdinalEncoder(categori...\n",
       "                                 Pipeline(steps=[(&#x27;log_transform&#x27;,\n",
       "                                                  FunctionTransformer(feature_names_out=&#x27;one-to-one&#x27;,\n",
       "                                                                      func=&lt;ufunc &#x27;cbrt&#x27;&gt;)),\n",
       "                                                 (&#x27;robust&#x27;, RobustScaler()),\n",
       "                                                 (&#x27;minmax&#x27;, MinMaxScaler())]),\n",
       "                                 [&#x27;Total Claim Amount&#x27;]),\n",
       "                                (&#x27;g5&#x27;,\n",
       "                                 Pipeline(steps=[(&#x27;group_numberofpolices&#x27;,\n",
       "                                                  FunctionTransformer(func=&lt;function transform_number_of_policies at 0x000001837DC19DC0&gt;)),\n",
       "                                                 (&#x27;minmax&#x27;, MinMaxScaler())]),\n",
       "                                 [&#x27;Number of Policies&#x27;])])</pre></div></div></div><div class=\"sk-parallel\"><div class=\"sk-parallel-item\"><div class=\"sk-item\"><div class=\"sk-label-container\"><div class=\"sk-label sk-toggleable\"><input class=\"sk-toggleable__control sk-hidden--visually\" id=\"sk-estimator-id-3\" type=\"checkbox\" ><label for=\"sk-estimator-id-3\" class=\"sk-toggleable__label sk-toggleable__label-arrow\">g1</label><div class=\"sk-toggleable__content\"><pre>[&#x27;Monthly Premium Auto&#x27;, &#x27;Income&#x27;]</pre></div></div></div><div class=\"sk-serial\"><div class=\"sk-item\"><div class=\"sk-serial\"><div class=\"sk-item\"><div class=\"sk-estimator sk-toggleable\"><input class=\"sk-toggleable__control sk-hidden--visually\" id=\"sk-estimator-id-4\" type=\"checkbox\" ><label for=\"sk-estimator-id-4\" class=\"sk-toggleable__label sk-toggleable__label-arrow\">RobustScaler</label><div class=\"sk-toggleable__content\"><pre>RobustScaler()</pre></div></div></div><div class=\"sk-item\"><div class=\"sk-estimator sk-toggleable\"><input class=\"sk-toggleable__control sk-hidden--visually\" id=\"sk-estimator-id-5\" type=\"checkbox\" ><label for=\"sk-estimator-id-5\" class=\"sk-toggleable__label sk-toggleable__label-arrow\">MinMaxScaler</label><div class=\"sk-toggleable__content\"><pre>MinMaxScaler()</pre></div></div></div></div></div></div></div></div><div class=\"sk-parallel-item\"><div class=\"sk-item\"><div class=\"sk-label-container\"><div class=\"sk-label sk-toggleable\"><input class=\"sk-toggleable__control sk-hidden--visually\" id=\"sk-estimator-id-6\" type=\"checkbox\" ><label for=\"sk-estimator-id-6\" class=\"sk-toggleable__label sk-toggleable__label-arrow\">g2</label><div class=\"sk-toggleable__content\"><pre>[&#x27;Renew Offer Type&#x27;, &#x27;EmploymentStatus&#x27;, &#x27;Marital Status&#x27;]</pre></div></div></div><div class=\"sk-serial\"><div class=\"sk-item\"><div class=\"sk-serial\"><div class=\"sk-item\"><div class=\"sk-estimator sk-toggleable\"><input class=\"sk-toggleable__control sk-hidden--visually\" id=\"sk-estimator-id-7\" type=\"checkbox\" ><label for=\"sk-estimator-id-7\" class=\"sk-toggleable__label sk-toggleable__label-arrow\">OneHotEncoder</label><div class=\"sk-toggleable__content\"><pre>OneHotEncoder(handle_unknown=&#x27;ignore&#x27;)</pre></div></div></div></div></div></div></div></div><div class=\"sk-parallel-item\"><div class=\"sk-item\"><div class=\"sk-label-container\"><div class=\"sk-label sk-toggleable\"><input class=\"sk-toggleable__control sk-hidden--visually\" id=\"sk-estimator-id-8\" type=\"checkbox\" ><label for=\"sk-estimator-id-8\" class=\"sk-toggleable__label sk-toggleable__label-arrow\">g3</label><div class=\"sk-toggleable__content\"><pre>[&#x27;Vehicle Class&#x27;, &#x27;Coverage&#x27;, &#x27;Education&#x27;]</pre></div></div></div><div class=\"sk-serial\"><div class=\"sk-item\"><div class=\"sk-serial\"><div class=\"sk-item\"><div class=\"sk-estimator sk-toggleable\"><input class=\"sk-toggleable__control sk-hidden--visually\" id=\"sk-estimator-id-9\" type=\"checkbox\" ><label for=\"sk-estimator-id-9\" class=\"sk-toggleable__label sk-toggleable__label-arrow\">OrdinalEncoder</label><div class=\"sk-toggleable__content\"><pre>OrdinalEncoder(categories=[[&#x27;Two-Door Car&#x27;, &#x27;Four-Door Car&#x27;, &#x27;SUV&#x27;,\n",
       "                            &#x27;Sports Car&#x27;, &#x27;Luxury Car&#x27;, &#x27;Luxury SUV&#x27;],\n",
       "                           [&#x27;Basic&#x27;, &#x27;Extended&#x27;, &#x27;Premium&#x27;],\n",
       "                           [&#x27;High School or Below&#x27;, &#x27;College&#x27;, &#x27;Bachelor&#x27;,\n",
       "                            &#x27;Master&#x27;, &#x27;Doctor&#x27;]])</pre></div></div></div><div class=\"sk-item\"><div class=\"sk-estimator sk-toggleable\"><input class=\"sk-toggleable__control sk-hidden--visually\" id=\"sk-estimator-id-10\" type=\"checkbox\" ><label for=\"sk-estimator-id-10\" class=\"sk-toggleable__label sk-toggleable__label-arrow\">MinMaxScaler</label><div class=\"sk-toggleable__content\"><pre>MinMaxScaler()</pre></div></div></div></div></div></div></div></div><div class=\"sk-parallel-item\"><div class=\"sk-item\"><div class=\"sk-label-container\"><div class=\"sk-label sk-toggleable\"><input class=\"sk-toggleable__control sk-hidden--visually\" id=\"sk-estimator-id-11\" type=\"checkbox\" ><label for=\"sk-estimator-id-11\" class=\"sk-toggleable__label sk-toggleable__label-arrow\">g4</label><div class=\"sk-toggleable__content\"><pre>[&#x27;Total Claim Amount&#x27;]</pre></div></div></div><div class=\"sk-serial\"><div class=\"sk-item\"><div class=\"sk-serial\"><div class=\"sk-item\"><div class=\"sk-estimator sk-toggleable\"><input class=\"sk-toggleable__control sk-hidden--visually\" id=\"sk-estimator-id-12\" type=\"checkbox\" ><label for=\"sk-estimator-id-12\" class=\"sk-toggleable__label sk-toggleable__label-arrow\">FunctionTransformer</label><div class=\"sk-toggleable__content\"><pre>FunctionTransformer(feature_names_out=&#x27;one-to-one&#x27;, func=&lt;ufunc &#x27;cbrt&#x27;&gt;)</pre></div></div></div><div class=\"sk-item\"><div class=\"sk-estimator sk-toggleable\"><input class=\"sk-toggleable__control sk-hidden--visually\" id=\"sk-estimator-id-13\" type=\"checkbox\" ><label for=\"sk-estimator-id-13\" class=\"sk-toggleable__label sk-toggleable__label-arrow\">RobustScaler</label><div class=\"sk-toggleable__content\"><pre>RobustScaler()</pre></div></div></div><div class=\"sk-item\"><div class=\"sk-estimator sk-toggleable\"><input class=\"sk-toggleable__control sk-hidden--visually\" id=\"sk-estimator-id-14\" type=\"checkbox\" ><label for=\"sk-estimator-id-14\" class=\"sk-toggleable__label sk-toggleable__label-arrow\">MinMaxScaler</label><div class=\"sk-toggleable__content\"><pre>MinMaxScaler()</pre></div></div></div></div></div></div></div></div><div class=\"sk-parallel-item\"><div class=\"sk-item\"><div class=\"sk-label-container\"><div class=\"sk-label sk-toggleable\"><input class=\"sk-toggleable__control sk-hidden--visually\" id=\"sk-estimator-id-15\" type=\"checkbox\" ><label for=\"sk-estimator-id-15\" class=\"sk-toggleable__label sk-toggleable__label-arrow\">g5</label><div class=\"sk-toggleable__content\"><pre>[&#x27;Number of Policies&#x27;]</pre></div></div></div><div class=\"sk-serial\"><div class=\"sk-item\"><div class=\"sk-serial\"><div class=\"sk-item\"><div class=\"sk-estimator sk-toggleable\"><input class=\"sk-toggleable__control sk-hidden--visually\" id=\"sk-estimator-id-16\" type=\"checkbox\" ><label for=\"sk-estimator-id-16\" class=\"sk-toggleable__label sk-toggleable__label-arrow\">FunctionTransformer</label><div class=\"sk-toggleable__content\"><pre>FunctionTransformer(func=&lt;function transform_number_of_policies at 0x000001837DC19DC0&gt;)</pre></div></div></div><div class=\"sk-item\"><div class=\"sk-estimator sk-toggleable\"><input class=\"sk-toggleable__control sk-hidden--visually\" id=\"sk-estimator-id-17\" type=\"checkbox\" ><label for=\"sk-estimator-id-17\" class=\"sk-toggleable__label sk-toggleable__label-arrow\">MinMaxScaler</label><div class=\"sk-toggleable__content\"><pre>MinMaxScaler()</pre></div></div></div></div></div></div></div></div><div class=\"sk-parallel-item\"><div class=\"sk-item\"><div class=\"sk-label-container\"><div class=\"sk-label sk-toggleable\"><input class=\"sk-toggleable__control sk-hidden--visually\" id=\"sk-estimator-id-18\" type=\"checkbox\" ><label for=\"sk-estimator-id-18\" class=\"sk-toggleable__label sk-toggleable__label-arrow\">remainder</label><div class=\"sk-toggleable__content\"><pre>[]</pre></div></div></div><div class=\"sk-serial\"><div class=\"sk-item\"><div class=\"sk-estimator sk-toggleable\"><input class=\"sk-toggleable__control sk-hidden--visually\" id=\"sk-estimator-id-19\" type=\"checkbox\" ><label for=\"sk-estimator-id-19\" class=\"sk-toggleable__label sk-toggleable__label-arrow\">passthrough</label><div class=\"sk-toggleable__content\"><pre>passthrough</pre></div></div></div></div></div></div></div></div><div class=\"sk-item\"><div class=\"sk-estimator sk-toggleable\"><input class=\"sk-toggleable__control sk-hidden--visually\" id=\"sk-estimator-id-20\" type=\"checkbox\" ><label for=\"sk-estimator-id-20\" class=\"sk-toggleable__label sk-toggleable__label-arrow\">XGBRegressor</label><div class=\"sk-toggleable__content\"><pre>XGBRegressor(base_score=None, booster=None, callbacks=None,\n",
       "             colsample_bylevel=None, colsample_bynode=None,\n",
       "             colsample_bytree=0.9743394303044555, device=None,\n",
       "             early_stopping_rounds=None, enable_categorical=False,\n",
       "             eval_metric=None, feature_types=None, gamma=None, grow_policy=None,\n",
       "             importance_type=None, interaction_constraints=None,\n",
       "             learning_rate=0.07512480451393796, max_bin=None,\n",
       "             max_cat_threshold=None, max_cat_to_onehot=None,\n",
       "             max_delta_step=None, max_depth=7, max_leaves=None,\n",
       "             min_child_weight=None, missing=nan, monotone_constraints=None,\n",
       "             multi_strategy=None, n_estimators=87, n_jobs=None,\n",
       "             num_parallel_tree=None, random_state=42, ...)</pre></div></div></div></div></div></div></div>"
      ],
      "text/plain": [
       "Pipeline(steps=[('transformer',\n",
       "                 ColumnTransformer(remainder='passthrough',\n",
       "                                   transformers=[('g1',\n",
       "                                                  Pipeline(steps=[('robust',\n",
       "                                                                   RobustScaler()),\n",
       "                                                                  ('minmax',\n",
       "                                                                   MinMaxScaler())]),\n",
       "                                                  ['Monthly Premium Auto',\n",
       "                                                   'Income']),\n",
       "                                                 ('g2',\n",
       "                                                  Pipeline(steps=[('onehot',\n",
       "                                                                   OneHotEncoder(handle_unknown='ignore'))]),\n",
       "                                                  ['Renew Offer Type',\n",
       "                                                   'EmploymentStatus',\n",
       "                                                   'Marital Status']),\n",
       "                                                 ('g3',\n",
       "                                                  Pipeline(steps=[('o...\n",
       "                              feature_types=None, gamma=None, grow_policy=None,\n",
       "                              importance_type=None,\n",
       "                              interaction_constraints=None,\n",
       "                              learning_rate=0.07512480451393796, max_bin=None,\n",
       "                              max_cat_threshold=None, max_cat_to_onehot=None,\n",
       "                              max_delta_step=None, max_depth=7, max_leaves=None,\n",
       "                              min_child_weight=None, missing=nan,\n",
       "                              monotone_constraints=None, multi_strategy=None,\n",
       "                              n_estimators=87, n_jobs=None,\n",
       "                              num_parallel_tree=None, random_state=42, ...))])"
      ]
     },
     "execution_count": 72,
     "metadata": {},
     "output_type": "execute_result"
    }
   ],
   "source": [
    "final_pipeline.fit(X, y_new)"
   ]
  },
  {
   "cell_type": "code",
   "execution_count": 73,
   "metadata": {},
   "outputs": [],
   "source": [
    "result_for_save = {\n",
    "    'pipeline' : final_pipeline,\n",
    "    'metrics' : eval_metric(y_test_new,y_pred_new),\n",
    "    'prediction' : prediction_result,\n",
    "    'feature_importance' :feature_importance_df\n",
    "}"
   ]
  },
  {
   "cell_type": "code",
   "execution_count": 74,
   "metadata": {},
   "outputs": [],
   "source": [
    "with open('model.pkl', 'wb') as f:\n",
    "    cloudpickle.dump(result_for_save, f)"
   ]
  },
  {
   "cell_type": "code",
   "execution_count": 75,
   "metadata": {},
   "outputs": [
    {
     "data": {
      "image/png": "[encoded data removed]",
      "text/plain": [
       "<Figure size 576x432 with 1 Axes>"
      ]
     },
     "metadata": {
      "needs_background": "light"
     },
     "output_type": "display_data"
    }
   ],
   "source": [
    "plt.figure(figsize=(8, 6))\n",
    "plt.scatter(y_test_new, y_pred_new, color='blue', alpha=0.5)\n",
    "plt.plot([min(y_test_new), max(y_test_new)], [min(y_test_new), max(y_test_new)], 'r--', lw=2)  # Garis y = x\n",
    "plt.xlabel('Nilai Sebenarnya')\n",
    "plt.ylabel('Nilai Prediksi')\n",
    "plt.title('Prediksi vs Nilai Sebenarnya')\n",
    "plt.show()\n"
   ]
  },
  {
   "cell_type": "markdown",
   "metadata": {},
   "source": [
    "### **Conclussion**"
   ]
  },
  {
   "cell_type": "markdown",
   "metadata": {},
   "source": [
    "Berdasarkan pemodelan yang telah dilakukan, fitur 'Number of Policies' dan 'Vehicle Class' terbukti memiliki pengaruh yang signifikan terhadap prediksi Customer Lifetime Value (CLV).\n",
    "\n",
    "Metrik evaluasi yang digunakan pada model ini mencakup nilai R², MSE, RMSE, MAE, dan MAPE. Dari hasil evaluasi, model menunjukkan nilai MAPE sekitar 12%, yang menunjukkan bahwa rata-rata prediksi harga CLV dapat meleset sekitar 12% dari nilai yang seharusnya.\n",
    "\n",
    "Namun, meskipun model menunjukkan performa yang baik, prediksi CLV masih memiliki kecenderungan bias yang cukup tinggi terutama pada nilai CLV yang di atas 20 ribu, yang tercermin dari perbedaan antara harga aktual dan harga prediksi. Bias ini bisa disebabkan oleh keterbatasan fitur dalam dataset yang tidak sepenuhnya mewakili berbagai aspek penting yang dapat memengaruhi CLV, seperti kurangnya data latih untuk nilai CLV yang tinggi.\n",
    "\n",
    "Untuk mengatasi masalah bias ini, dilakukan winsorizing pada target CLV di kuantil ke-98. Tujuan dari winsorizing ini adalah untuk mengurangi pengaruh nilai-nilai ekstrem (outliers) yang dapat mendistorsi model, yang pada awalnya menunjukkan CLV dengan nilai hingga 80 ribuan, menjadi lebih terkontrol pada sekitar 30 ribuan. Dengan cara ini, model menjadi lebih fokus pada distribusi data yang lebih umum dan mengurangi ketergantungan pada data ekstrim yang tidak realistis.\n",
    "\n",
    "Winsorizing juga membuka peluang untuk memberikan label VIP kepada customer dengan CLV di atas 25 ribuan, karena pada nilai tersebut, kemungkinan besar customer tersebut memiliki potensi lifetime value yang lebih tinggi daripada rata-rata, meskipun nilai prediksi model mungkin sedikit meleset. Memberikan label VIP pada customer dengan CLV tinggi memungkinkan stakeholder untuk mengidentifikasi customer dengan potensi tinggi lebih awal dan memberikan perhatian khusus untuk meningkatkan retensi atau profitabilitas.\n",
    "\n",
    "Model ini masih memiliki ruang untuk perbaikan lebih lanjut. Salah satu cara untuk meningkatkan akurasi dan efektivitas model adalah dengan menambah data terbaru yang relevan, terutama yang dapat mencerminkan dinamika pasar atau perilaku customer yang lebih terkini dan customer yang meiliki nilai CLV yang lebih tinggi. \n",
    "\n",
    "Dari perbaikan ini, kita dapat memperoleh insight lebih lanjut mengenai fitur-fitur yang lebih berpengaruh terhadap CLV dan bagaimana cara model bisa lebih baik dalam mengidentifikasi customer dengan potensi tinggi. Dengan pendekatan-pendekatan tersebut, diharapkan model dapat memberikan hasil yang lebih optimal dan lebih akurat dalam jangka panjang."
   ]
  },
  {
   "cell_type": "markdown",
   "metadata": {},
   "source": [
    "\n",
    "\n",
    "\n",
    "Model ini masih memiliki ruang untuk perbaikan lebih lanjut. A/B testing pada model yang telah dibangun dapat dilakukan untuk mengevaluasi efektivitasnya dalam meningkatkan hasil prediksi atau retensi customer. Dari hasil A/B testing, kita dapat memperoleh insight lebih lanjut mengenai aspek-aspek yang perlu diperbaiki dalam model ini untuk hasil yang lebih optimal."
   ]
  },
  {
   "cell_type": "markdown",
   "metadata": {},
   "source": [
    "### **Recommendations**"
   ]
  },
  {
   "cell_type": "markdown",
   "metadata": {},
   "source": [
    "1. Identifikasi Customer VIP Berdasarkan CLV\n",
    "Dengan memanfaatkan model CLV yang telah dibangun, bisnis dapat mengidentifikasi customer dengan potensi tinggi (VIP) berdasarkan prediksi CLV. Customer dengan CLV di atas angka tertentu (misalnya 25 ribu) bisa diberikan perlakuan khusus, seperti penawaran eksklusif atau program loyalitas yang meningkatkan retensi dan lifetime value mereka. Ini dapat membantu meningkatkan hubungan jangka panjang dan memastikan bahwa bisnis tidak kehilangan peluang dari customer potensial yang memiliki nilai tinggi.\n",
    "\n",
    "2. Segmentasi Customer untuk Strategi Pemasaran\n",
    "Model ini dapat digunakan untuk melakukan segmentasi customer secara lebih akurat berdasarkan prediksi CLV. Dengan segmentasi ini, tim pemasaran bisa menyusun kampanye yang lebih terarah dan efektif, seperti penargetan iklan atau penawaran spesial untuk customer dengan CLV tinggi atau customer dengan CLV rendah yang berpotensi untuk meningkatkan nilai mereka. Pemasaran yang lebih terfokus ini akan mengurangi pemborosan anggaran dan meningkatkan konversi.\n",
    "\n",
    "3. Optimasi Penetapan Harga Berdasarkan CLV\n",
    "Model CLV juga bisa digunakan untuk menentukan strategi penetapan harga yang lebih dinamis. Misalnya, customer dengan CLV yang tinggi bisa diberi harga khusus atau diskon, sedangkan customer dengan CLV rendah dapat dikenakan harga penuh atau diberikan tawaran untuk mendorong mereka bertransaksi lebih sering. Dengan cara ini, model CLV membantu bisnis dalam mengatur harga secara lebih strategis berdasarkan potensi jangka panjang customer.\n",
    "\n",
    "4. Penggunaan Model untuk A/B Testing Strategi Bisnis\n",
    "Meskipun A/B testing lebih umum digunakan untuk uji coba elemen-elemen pemasaran, di sini bisnis bisa menguji efektivitas strategi CLV seperti personalisasi harga, penawaran eksklusif, atau kampanye pemasaran berdasarkan CLV customer. Ini dapat memberikan insight apakah strategi yang diterapkan benar-benar meningkatkan retensi customer dan profitabilitas jangka panjang.\n",
    "\n",
    "5. Personalisasi Pengalaman Customer\n",
    "Model CLV memungkinkan perusahaan untuk menyesuaikan pengalaman customer dengan lebih tepat. Dengan mengetahui potensi nilai setiap customer, bisnis dapat menawarkan penawaran khusus atau layanan prioritas yang lebih sesuai dengan preferensi dan kebutuhan customer. Personalisasi ini akan meningkatkan loyalitas customer dan membuat mereka merasa dihargai, sehingga mendorong interaksi lebih lanjut dan meningkatkan nilai lifetime mereka."
   ]
  }
 ],
 "metadata": {
  "kernelspec": {
   "display_name": "base",
   "language": "python",
   "name": "python3"
  },
  "language_info": {
   "codemirror_mode": {
    "name": "ipython",
    "version": 3
   },
   "file_extension": ".py",
   "mimetype": "text/x-python",
   "name": "python",
   "nbconvert_exporter": "python",
   "pygments_lexer": "ipython3",
   "version": "3.8.8"
  }
 },
 "nbformat": 4,
 "nbformat_minor": 2
}
